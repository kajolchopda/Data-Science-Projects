{
 "cells": [
  {
   "cell_type": "code",
   "execution_count": 1,
   "metadata": {},
   "outputs": [],
   "source": [
    "#libraries\n",
    "import numpy as np\n",
    "import pandas as pd\n",
    "import matplotlib.pyplot as plt\n",
    "import seaborn as sns"
   ]
  },
  {
   "cell_type": "code",
   "execution_count": 2,
   "metadata": {},
   "outputs": [],
   "source": [
    "#Reading both train and test dataset\n",
    "train=pd.read_csv('train_BigMartSales.csv')\n",
    "test=pd.read_csv('test_BigMartSales.csv')"
   ]
  },
  {
   "cell_type": "code",
   "execution_count": 3,
   "metadata": {},
   "outputs": [
    {
     "data": {
      "text/html": [
       "<div>\n",
       "<style scoped>\n",
       "    .dataframe tbody tr th:only-of-type {\n",
       "        vertical-align: middle;\n",
       "    }\n",
       "\n",
       "    .dataframe tbody tr th {\n",
       "        vertical-align: top;\n",
       "    }\n",
       "\n",
       "    .dataframe thead th {\n",
       "        text-align: right;\n",
       "    }\n",
       "</style>\n",
       "<table border=\"1\" class=\"dataframe\">\n",
       "  <thead>\n",
       "    <tr style=\"text-align: right;\">\n",
       "      <th></th>\n",
       "      <th>Item_Identifier</th>\n",
       "      <th>Item_Weight</th>\n",
       "      <th>Item_Fat_Content</th>\n",
       "      <th>Item_Visibility</th>\n",
       "      <th>Item_Type</th>\n",
       "      <th>Item_MRP</th>\n",
       "      <th>Outlet_Identifier</th>\n",
       "      <th>Outlet_Establishment_Year</th>\n",
       "      <th>Outlet_Size</th>\n",
       "      <th>Outlet_Location_Type</th>\n",
       "      <th>Outlet_Type</th>\n",
       "      <th>Item_Outlet_Sales</th>\n",
       "    </tr>\n",
       "  </thead>\n",
       "  <tbody>\n",
       "    <tr>\n",
       "      <td>0</td>\n",
       "      <td>FDA15</td>\n",
       "      <td>9.30</td>\n",
       "      <td>Low Fat</td>\n",
       "      <td>0.016047</td>\n",
       "      <td>Dairy</td>\n",
       "      <td>249.8092</td>\n",
       "      <td>OUT049</td>\n",
       "      <td>1999</td>\n",
       "      <td>Medium</td>\n",
       "      <td>Tier 1</td>\n",
       "      <td>Supermarket Type1</td>\n",
       "      <td>3735.1380</td>\n",
       "    </tr>\n",
       "    <tr>\n",
       "      <td>1</td>\n",
       "      <td>DRC01</td>\n",
       "      <td>5.92</td>\n",
       "      <td>Regular</td>\n",
       "      <td>0.019278</td>\n",
       "      <td>Soft Drinks</td>\n",
       "      <td>48.2692</td>\n",
       "      <td>OUT018</td>\n",
       "      <td>2009</td>\n",
       "      <td>Medium</td>\n",
       "      <td>Tier 3</td>\n",
       "      <td>Supermarket Type2</td>\n",
       "      <td>443.4228</td>\n",
       "    </tr>\n",
       "    <tr>\n",
       "      <td>2</td>\n",
       "      <td>FDN15</td>\n",
       "      <td>17.50</td>\n",
       "      <td>Low Fat</td>\n",
       "      <td>0.016760</td>\n",
       "      <td>Meat</td>\n",
       "      <td>141.6180</td>\n",
       "      <td>OUT049</td>\n",
       "      <td>1999</td>\n",
       "      <td>Medium</td>\n",
       "      <td>Tier 1</td>\n",
       "      <td>Supermarket Type1</td>\n",
       "      <td>2097.2700</td>\n",
       "    </tr>\n",
       "    <tr>\n",
       "      <td>3</td>\n",
       "      <td>FDX07</td>\n",
       "      <td>19.20</td>\n",
       "      <td>Regular</td>\n",
       "      <td>0.000000</td>\n",
       "      <td>Fruits and Vegetables</td>\n",
       "      <td>182.0950</td>\n",
       "      <td>OUT010</td>\n",
       "      <td>1998</td>\n",
       "      <td>NaN</td>\n",
       "      <td>Tier 3</td>\n",
       "      <td>Grocery Store</td>\n",
       "      <td>732.3800</td>\n",
       "    </tr>\n",
       "    <tr>\n",
       "      <td>4</td>\n",
       "      <td>NCD19</td>\n",
       "      <td>8.93</td>\n",
       "      <td>Low Fat</td>\n",
       "      <td>0.000000</td>\n",
       "      <td>Household</td>\n",
       "      <td>53.8614</td>\n",
       "      <td>OUT013</td>\n",
       "      <td>1987</td>\n",
       "      <td>High</td>\n",
       "      <td>Tier 3</td>\n",
       "      <td>Supermarket Type1</td>\n",
       "      <td>994.7052</td>\n",
       "    </tr>\n",
       "  </tbody>\n",
       "</table>\n",
       "</div>"
      ],
      "text/plain": [
       "  Item_Identifier  Item_Weight Item_Fat_Content  Item_Visibility  \\\n",
       "0           FDA15         9.30          Low Fat         0.016047   \n",
       "1           DRC01         5.92          Regular         0.019278   \n",
       "2           FDN15        17.50          Low Fat         0.016760   \n",
       "3           FDX07        19.20          Regular         0.000000   \n",
       "4           NCD19         8.93          Low Fat         0.000000   \n",
       "\n",
       "               Item_Type  Item_MRP Outlet_Identifier  \\\n",
       "0                  Dairy  249.8092            OUT049   \n",
       "1            Soft Drinks   48.2692            OUT018   \n",
       "2                   Meat  141.6180            OUT049   \n",
       "3  Fruits and Vegetables  182.0950            OUT010   \n",
       "4              Household   53.8614            OUT013   \n",
       "\n",
       "   Outlet_Establishment_Year Outlet_Size Outlet_Location_Type  \\\n",
       "0                       1999      Medium               Tier 1   \n",
       "1                       2009      Medium               Tier 3   \n",
       "2                       1999      Medium               Tier 1   \n",
       "3                       1998         NaN               Tier 3   \n",
       "4                       1987        High               Tier 3   \n",
       "\n",
       "         Outlet_Type  Item_Outlet_Sales  \n",
       "0  Supermarket Type1          3735.1380  \n",
       "1  Supermarket Type2           443.4228  \n",
       "2  Supermarket Type1          2097.2700  \n",
       "3      Grocery Store           732.3800  \n",
       "4  Supermarket Type1           994.7052  "
      ]
     },
     "execution_count": 3,
     "metadata": {},
     "output_type": "execute_result"
    }
   ],
   "source": [
    "train.head(5)"
   ]
  },
  {
   "cell_type": "code",
   "execution_count": 4,
   "metadata": {},
   "outputs": [
    {
     "data": {
      "text/html": [
       "<div>\n",
       "<style scoped>\n",
       "    .dataframe tbody tr th:only-of-type {\n",
       "        vertical-align: middle;\n",
       "    }\n",
       "\n",
       "    .dataframe tbody tr th {\n",
       "        vertical-align: top;\n",
       "    }\n",
       "\n",
       "    .dataframe thead th {\n",
       "        text-align: right;\n",
       "    }\n",
       "</style>\n",
       "<table border=\"1\" class=\"dataframe\">\n",
       "  <thead>\n",
       "    <tr style=\"text-align: right;\">\n",
       "      <th></th>\n",
       "      <th>Item_Identifier</th>\n",
       "      <th>Item_Weight</th>\n",
       "      <th>Item_Fat_Content</th>\n",
       "      <th>Item_Visibility</th>\n",
       "      <th>Item_Type</th>\n",
       "      <th>Item_MRP</th>\n",
       "      <th>Outlet_Identifier</th>\n",
       "      <th>Outlet_Establishment_Year</th>\n",
       "      <th>Outlet_Size</th>\n",
       "      <th>Outlet_Location_Type</th>\n",
       "      <th>Outlet_Type</th>\n",
       "    </tr>\n",
       "  </thead>\n",
       "  <tbody>\n",
       "    <tr>\n",
       "      <td>0</td>\n",
       "      <td>FDW58</td>\n",
       "      <td>20.750</td>\n",
       "      <td>Low Fat</td>\n",
       "      <td>0.007565</td>\n",
       "      <td>Snack Foods</td>\n",
       "      <td>107.8622</td>\n",
       "      <td>OUT049</td>\n",
       "      <td>1999</td>\n",
       "      <td>Medium</td>\n",
       "      <td>Tier 1</td>\n",
       "      <td>Supermarket Type1</td>\n",
       "    </tr>\n",
       "    <tr>\n",
       "      <td>1</td>\n",
       "      <td>FDW14</td>\n",
       "      <td>8.300</td>\n",
       "      <td>reg</td>\n",
       "      <td>0.038428</td>\n",
       "      <td>Dairy</td>\n",
       "      <td>87.3198</td>\n",
       "      <td>OUT017</td>\n",
       "      <td>2007</td>\n",
       "      <td>NaN</td>\n",
       "      <td>Tier 2</td>\n",
       "      <td>Supermarket Type1</td>\n",
       "    </tr>\n",
       "    <tr>\n",
       "      <td>2</td>\n",
       "      <td>NCN55</td>\n",
       "      <td>14.600</td>\n",
       "      <td>Low Fat</td>\n",
       "      <td>0.099575</td>\n",
       "      <td>Others</td>\n",
       "      <td>241.7538</td>\n",
       "      <td>OUT010</td>\n",
       "      <td>1998</td>\n",
       "      <td>NaN</td>\n",
       "      <td>Tier 3</td>\n",
       "      <td>Grocery Store</td>\n",
       "    </tr>\n",
       "    <tr>\n",
       "      <td>3</td>\n",
       "      <td>FDQ58</td>\n",
       "      <td>7.315</td>\n",
       "      <td>Low Fat</td>\n",
       "      <td>0.015388</td>\n",
       "      <td>Snack Foods</td>\n",
       "      <td>155.0340</td>\n",
       "      <td>OUT017</td>\n",
       "      <td>2007</td>\n",
       "      <td>NaN</td>\n",
       "      <td>Tier 2</td>\n",
       "      <td>Supermarket Type1</td>\n",
       "    </tr>\n",
       "    <tr>\n",
       "      <td>4</td>\n",
       "      <td>FDY38</td>\n",
       "      <td>NaN</td>\n",
       "      <td>Regular</td>\n",
       "      <td>0.118599</td>\n",
       "      <td>Dairy</td>\n",
       "      <td>234.2300</td>\n",
       "      <td>OUT027</td>\n",
       "      <td>1985</td>\n",
       "      <td>Medium</td>\n",
       "      <td>Tier 3</td>\n",
       "      <td>Supermarket Type3</td>\n",
       "    </tr>\n",
       "  </tbody>\n",
       "</table>\n",
       "</div>"
      ],
      "text/plain": [
       "  Item_Identifier  Item_Weight Item_Fat_Content  Item_Visibility    Item_Type  \\\n",
       "0           FDW58       20.750          Low Fat         0.007565  Snack Foods   \n",
       "1           FDW14        8.300              reg         0.038428        Dairy   \n",
       "2           NCN55       14.600          Low Fat         0.099575       Others   \n",
       "3           FDQ58        7.315          Low Fat         0.015388  Snack Foods   \n",
       "4           FDY38          NaN          Regular         0.118599        Dairy   \n",
       "\n",
       "   Item_MRP Outlet_Identifier  Outlet_Establishment_Year Outlet_Size  \\\n",
       "0  107.8622            OUT049                       1999      Medium   \n",
       "1   87.3198            OUT017                       2007         NaN   \n",
       "2  241.7538            OUT010                       1998         NaN   \n",
       "3  155.0340            OUT017                       2007         NaN   \n",
       "4  234.2300            OUT027                       1985      Medium   \n",
       "\n",
       "  Outlet_Location_Type        Outlet_Type  \n",
       "0               Tier 1  Supermarket Type1  \n",
       "1               Tier 2  Supermarket Type1  \n",
       "2               Tier 3      Grocery Store  \n",
       "3               Tier 2  Supermarket Type1  \n",
       "4               Tier 3  Supermarket Type3  "
      ]
     },
     "execution_count": 4,
     "metadata": {},
     "output_type": "execute_result"
    }
   ],
   "source": [
    "test.head(5)"
   ]
  },
  {
   "cell_type": "code",
   "execution_count": 5,
   "metadata": {},
   "outputs": [
    {
     "name": "stdout",
     "output_type": "stream",
     "text": [
      "(8523, 12) (5681, 11)\n"
     ]
    }
   ],
   "source": [
    "print(train.shape,test.shape)"
   ]
  },
  {
   "cell_type": "code",
   "execution_count": 6,
   "metadata": {},
   "outputs": [
    {
     "name": "stdout",
     "output_type": "stream",
     "text": [
      "<class 'pandas.core.frame.DataFrame'>\n",
      "RangeIndex: 8523 entries, 0 to 8522\n",
      "Data columns (total 12 columns):\n",
      "Item_Identifier              8523 non-null object\n",
      "Item_Weight                  7060 non-null float64\n",
      "Item_Fat_Content             8523 non-null object\n",
      "Item_Visibility              8523 non-null float64\n",
      "Item_Type                    8523 non-null object\n",
      "Item_MRP                     8523 non-null float64\n",
      "Outlet_Identifier            8523 non-null object\n",
      "Outlet_Establishment_Year    8523 non-null int64\n",
      "Outlet_Size                  6113 non-null object\n",
      "Outlet_Location_Type         8523 non-null object\n",
      "Outlet_Type                  8523 non-null object\n",
      "Item_Outlet_Sales            8523 non-null float64\n",
      "dtypes: float64(4), int64(1), object(7)\n",
      "memory usage: 799.2+ KB\n"
     ]
    }
   ],
   "source": [
    "train.info()"
   ]
  },
  {
   "cell_type": "markdown",
   "metadata": {},
   "source": [
    "- Target Variable: Item_Outlet_Sales\n",
    "    \n",
    "- Train dataset have 12 columns and 8523 entries.\n",
    "\n",
    "- Data Types: float64(4), int64(1), object(7)\n",
    "    \n",
    "- Missing values are present in Item_Weight,Outlet_Size"
   ]
  },
  {
   "cell_type": "code",
   "execution_count": 7,
   "metadata": {},
   "outputs": [
    {
     "name": "stdout",
     "output_type": "stream",
     "text": [
      "<class 'pandas.core.frame.DataFrame'>\n",
      "RangeIndex: 5681 entries, 0 to 5680\n",
      "Data columns (total 11 columns):\n",
      "Item_Identifier              5681 non-null object\n",
      "Item_Weight                  4705 non-null float64\n",
      "Item_Fat_Content             5681 non-null object\n",
      "Item_Visibility              5681 non-null float64\n",
      "Item_Type                    5681 non-null object\n",
      "Item_MRP                     5681 non-null float64\n",
      "Outlet_Identifier            5681 non-null object\n",
      "Outlet_Establishment_Year    5681 non-null int64\n",
      "Outlet_Size                  4075 non-null object\n",
      "Outlet_Location_Type         5681 non-null object\n",
      "Outlet_Type                  5681 non-null object\n",
      "dtypes: float64(3), int64(1), object(7)\n",
      "memory usage: 488.3+ KB\n"
     ]
    }
   ],
   "source": [
    "test.info()"
   ]
  },
  {
   "cell_type": "markdown",
   "metadata": {},
   "source": [
    "- Target Variable: Item_Outlet_Sales\n",
    "    \n",
    "- Test dataset have 11 columns and 5681 entries.\n",
    "\n",
    "- Data Types: float64(3), int64(1), object(7)\n",
    "    \n",
    "- Missing values are present in Item_Weight,Outlet_Size"
   ]
  },
  {
   "cell_type": "code",
   "execution_count": 8,
   "metadata": {},
   "outputs": [
    {
     "data": {
      "text/plain": [
       "Item_Weight    1463\n",
       "Outlet_Size    2410\n",
       "dtype: int64"
      ]
     },
     "execution_count": 8,
     "metadata": {},
     "output_type": "execute_result"
    }
   ],
   "source": [
    "#Checking for null values\n",
    "train.isnull().sum()[train.isnull().sum()!=0]"
   ]
  },
  {
   "cell_type": "code",
   "execution_count": 9,
   "metadata": {},
   "outputs": [
    {
     "data": {
      "text/plain": [
       "Item_Weight     976\n",
       "Outlet_Size    1606\n",
       "dtype: int64"
      ]
     },
     "execution_count": 9,
     "metadata": {},
     "output_type": "execute_result"
    }
   ],
   "source": [
    "test.isnull().sum()[test.isnull().sum()!=0]"
   ]
  },
  {
   "cell_type": "code",
   "execution_count": 10,
   "metadata": {},
   "outputs": [
    {
     "data": {
      "text/html": [
       "<div>\n",
       "<style scoped>\n",
       "    .dataframe tbody tr th:only-of-type {\n",
       "        vertical-align: middle;\n",
       "    }\n",
       "\n",
       "    .dataframe tbody tr th {\n",
       "        vertical-align: top;\n",
       "    }\n",
       "\n",
       "    .dataframe thead th {\n",
       "        text-align: right;\n",
       "    }\n",
       "</style>\n",
       "<table border=\"1\" class=\"dataframe\">\n",
       "  <thead>\n",
       "    <tr style=\"text-align: right;\">\n",
       "      <th></th>\n",
       "      <th>count</th>\n",
       "      <th>unique</th>\n",
       "      <th>top</th>\n",
       "      <th>freq</th>\n",
       "      <th>mean</th>\n",
       "      <th>std</th>\n",
       "      <th>min</th>\n",
       "      <th>25%</th>\n",
       "      <th>50%</th>\n",
       "      <th>75%</th>\n",
       "      <th>max</th>\n",
       "    </tr>\n",
       "  </thead>\n",
       "  <tbody>\n",
       "    <tr>\n",
       "      <td>Item_Identifier</td>\n",
       "      <td>8523</td>\n",
       "      <td>1559</td>\n",
       "      <td>FDG33</td>\n",
       "      <td>10</td>\n",
       "      <td>NaN</td>\n",
       "      <td>NaN</td>\n",
       "      <td>NaN</td>\n",
       "      <td>NaN</td>\n",
       "      <td>NaN</td>\n",
       "      <td>NaN</td>\n",
       "      <td>NaN</td>\n",
       "    </tr>\n",
       "    <tr>\n",
       "      <td>Item_Weight</td>\n",
       "      <td>7060</td>\n",
       "      <td>NaN</td>\n",
       "      <td>NaN</td>\n",
       "      <td>NaN</td>\n",
       "      <td>12.8576</td>\n",
       "      <td>4.64346</td>\n",
       "      <td>4.555</td>\n",
       "      <td>8.77375</td>\n",
       "      <td>12.6</td>\n",
       "      <td>16.85</td>\n",
       "      <td>21.35</td>\n",
       "    </tr>\n",
       "    <tr>\n",
       "      <td>Item_Fat_Content</td>\n",
       "      <td>8523</td>\n",
       "      <td>5</td>\n",
       "      <td>Low Fat</td>\n",
       "      <td>5089</td>\n",
       "      <td>NaN</td>\n",
       "      <td>NaN</td>\n",
       "      <td>NaN</td>\n",
       "      <td>NaN</td>\n",
       "      <td>NaN</td>\n",
       "      <td>NaN</td>\n",
       "      <td>NaN</td>\n",
       "    </tr>\n",
       "    <tr>\n",
       "      <td>Item_Visibility</td>\n",
       "      <td>8523</td>\n",
       "      <td>NaN</td>\n",
       "      <td>NaN</td>\n",
       "      <td>NaN</td>\n",
       "      <td>0.066132</td>\n",
       "      <td>0.0515978</td>\n",
       "      <td>0</td>\n",
       "      <td>0.0269895</td>\n",
       "      <td>0.0539309</td>\n",
       "      <td>0.0945853</td>\n",
       "      <td>0.328391</td>\n",
       "    </tr>\n",
       "    <tr>\n",
       "      <td>Item_Type</td>\n",
       "      <td>8523</td>\n",
       "      <td>16</td>\n",
       "      <td>Fruits and Vegetables</td>\n",
       "      <td>1232</td>\n",
       "      <td>NaN</td>\n",
       "      <td>NaN</td>\n",
       "      <td>NaN</td>\n",
       "      <td>NaN</td>\n",
       "      <td>NaN</td>\n",
       "      <td>NaN</td>\n",
       "      <td>NaN</td>\n",
       "    </tr>\n",
       "    <tr>\n",
       "      <td>Item_MRP</td>\n",
       "      <td>8523</td>\n",
       "      <td>NaN</td>\n",
       "      <td>NaN</td>\n",
       "      <td>NaN</td>\n",
       "      <td>140.993</td>\n",
       "      <td>62.2751</td>\n",
       "      <td>31.29</td>\n",
       "      <td>93.8265</td>\n",
       "      <td>143.013</td>\n",
       "      <td>185.644</td>\n",
       "      <td>266.888</td>\n",
       "    </tr>\n",
       "    <tr>\n",
       "      <td>Outlet_Identifier</td>\n",
       "      <td>8523</td>\n",
       "      <td>10</td>\n",
       "      <td>OUT027</td>\n",
       "      <td>935</td>\n",
       "      <td>NaN</td>\n",
       "      <td>NaN</td>\n",
       "      <td>NaN</td>\n",
       "      <td>NaN</td>\n",
       "      <td>NaN</td>\n",
       "      <td>NaN</td>\n",
       "      <td>NaN</td>\n",
       "    </tr>\n",
       "    <tr>\n",
       "      <td>Outlet_Establishment_Year</td>\n",
       "      <td>8523</td>\n",
       "      <td>NaN</td>\n",
       "      <td>NaN</td>\n",
       "      <td>NaN</td>\n",
       "      <td>1997.83</td>\n",
       "      <td>8.37176</td>\n",
       "      <td>1985</td>\n",
       "      <td>1987</td>\n",
       "      <td>1999</td>\n",
       "      <td>2004</td>\n",
       "      <td>2009</td>\n",
       "    </tr>\n",
       "    <tr>\n",
       "      <td>Outlet_Size</td>\n",
       "      <td>6113</td>\n",
       "      <td>3</td>\n",
       "      <td>Medium</td>\n",
       "      <td>2793</td>\n",
       "      <td>NaN</td>\n",
       "      <td>NaN</td>\n",
       "      <td>NaN</td>\n",
       "      <td>NaN</td>\n",
       "      <td>NaN</td>\n",
       "      <td>NaN</td>\n",
       "      <td>NaN</td>\n",
       "    </tr>\n",
       "    <tr>\n",
       "      <td>Outlet_Location_Type</td>\n",
       "      <td>8523</td>\n",
       "      <td>3</td>\n",
       "      <td>Tier 3</td>\n",
       "      <td>3350</td>\n",
       "      <td>NaN</td>\n",
       "      <td>NaN</td>\n",
       "      <td>NaN</td>\n",
       "      <td>NaN</td>\n",
       "      <td>NaN</td>\n",
       "      <td>NaN</td>\n",
       "      <td>NaN</td>\n",
       "    </tr>\n",
       "    <tr>\n",
       "      <td>Outlet_Type</td>\n",
       "      <td>8523</td>\n",
       "      <td>4</td>\n",
       "      <td>Supermarket Type1</td>\n",
       "      <td>5577</td>\n",
       "      <td>NaN</td>\n",
       "      <td>NaN</td>\n",
       "      <td>NaN</td>\n",
       "      <td>NaN</td>\n",
       "      <td>NaN</td>\n",
       "      <td>NaN</td>\n",
       "      <td>NaN</td>\n",
       "    </tr>\n",
       "    <tr>\n",
       "      <td>Item_Outlet_Sales</td>\n",
       "      <td>8523</td>\n",
       "      <td>NaN</td>\n",
       "      <td>NaN</td>\n",
       "      <td>NaN</td>\n",
       "      <td>2181.29</td>\n",
       "      <td>1706.5</td>\n",
       "      <td>33.29</td>\n",
       "      <td>834.247</td>\n",
       "      <td>1794.33</td>\n",
       "      <td>3101.3</td>\n",
       "      <td>13087</td>\n",
       "    </tr>\n",
       "  </tbody>\n",
       "</table>\n",
       "</div>"
      ],
      "text/plain": [
       "                          count unique                    top  freq      mean  \\\n",
       "Item_Identifier            8523   1559                  FDG33    10       NaN   \n",
       "Item_Weight                7060    NaN                    NaN   NaN   12.8576   \n",
       "Item_Fat_Content           8523      5                Low Fat  5089       NaN   \n",
       "Item_Visibility            8523    NaN                    NaN   NaN  0.066132   \n",
       "Item_Type                  8523     16  Fruits and Vegetables  1232       NaN   \n",
       "Item_MRP                   8523    NaN                    NaN   NaN   140.993   \n",
       "Outlet_Identifier          8523     10                 OUT027   935       NaN   \n",
       "Outlet_Establishment_Year  8523    NaN                    NaN   NaN   1997.83   \n",
       "Outlet_Size                6113      3                 Medium  2793       NaN   \n",
       "Outlet_Location_Type       8523      3                 Tier 3  3350       NaN   \n",
       "Outlet_Type                8523      4      Supermarket Type1  5577       NaN   \n",
       "Item_Outlet_Sales          8523    NaN                    NaN   NaN   2181.29   \n",
       "\n",
       "                                 std    min        25%        50%        75%  \\\n",
       "Item_Identifier                  NaN    NaN        NaN        NaN        NaN   \n",
       "Item_Weight                  4.64346  4.555    8.77375       12.6      16.85   \n",
       "Item_Fat_Content                 NaN    NaN        NaN        NaN        NaN   \n",
       "Item_Visibility            0.0515978      0  0.0269895  0.0539309  0.0945853   \n",
       "Item_Type                        NaN    NaN        NaN        NaN        NaN   \n",
       "Item_MRP                     62.2751  31.29    93.8265    143.013    185.644   \n",
       "Outlet_Identifier                NaN    NaN        NaN        NaN        NaN   \n",
       "Outlet_Establishment_Year    8.37176   1985       1987       1999       2004   \n",
       "Outlet_Size                      NaN    NaN        NaN        NaN        NaN   \n",
       "Outlet_Location_Type             NaN    NaN        NaN        NaN        NaN   \n",
       "Outlet_Type                      NaN    NaN        NaN        NaN        NaN   \n",
       "Item_Outlet_Sales             1706.5  33.29    834.247    1794.33     3101.3   \n",
       "\n",
       "                                max  \n",
       "Item_Identifier                 NaN  \n",
       "Item_Weight                   21.35  \n",
       "Item_Fat_Content                NaN  \n",
       "Item_Visibility            0.328391  \n",
       "Item_Type                       NaN  \n",
       "Item_MRP                    266.888  \n",
       "Outlet_Identifier               NaN  \n",
       "Outlet_Establishment_Year      2009  \n",
       "Outlet_Size                     NaN  \n",
       "Outlet_Location_Type            NaN  \n",
       "Outlet_Type                     NaN  \n",
       "Item_Outlet_Sales             13087  "
      ]
     },
     "execution_count": 10,
     "metadata": {},
     "output_type": "execute_result"
    }
   ],
   "source": [
    "#5 point summary\n",
    "train.describe(include='all').T"
   ]
  },
  {
   "cell_type": "markdown",
   "metadata": {},
   "source": [
    "Inference:\n",
    "\n",
    "- Values are shown only for numerical columns and include='all' will include object data.\n",
    "\n",
    "- Item_MRP,Outlet_Establishment_Year,Item_Outlet_Sales have data that is skewed.\n",
    "\n",
    "- Including Object data type will help us know how many unique values are present"
   ]
  },
  {
   "cell_type": "code",
   "execution_count": 11,
   "metadata": {},
   "outputs": [
    {
     "data": {
      "text/html": [
       "<div>\n",
       "<style scoped>\n",
       "    .dataframe tbody tr th:only-of-type {\n",
       "        vertical-align: middle;\n",
       "    }\n",
       "\n",
       "    .dataframe tbody tr th {\n",
       "        vertical-align: top;\n",
       "    }\n",
       "\n",
       "    .dataframe thead th {\n",
       "        text-align: right;\n",
       "    }\n",
       "</style>\n",
       "<table border=\"1\" class=\"dataframe\">\n",
       "  <thead>\n",
       "    <tr style=\"text-align: right;\">\n",
       "      <th></th>\n",
       "      <th>count</th>\n",
       "      <th>mean</th>\n",
       "      <th>std</th>\n",
       "      <th>min</th>\n",
       "      <th>25%</th>\n",
       "      <th>50%</th>\n",
       "      <th>75%</th>\n",
       "      <th>max</th>\n",
       "    </tr>\n",
       "  </thead>\n",
       "  <tbody>\n",
       "    <tr>\n",
       "      <td>Item_Weight</td>\n",
       "      <td>4705.0</td>\n",
       "      <td>12.695633</td>\n",
       "      <td>4.664849</td>\n",
       "      <td>4.555</td>\n",
       "      <td>8.645000</td>\n",
       "      <td>12.500000</td>\n",
       "      <td>16.700000</td>\n",
       "      <td>21.350000</td>\n",
       "    </tr>\n",
       "    <tr>\n",
       "      <td>Item_Visibility</td>\n",
       "      <td>5681.0</td>\n",
       "      <td>0.065684</td>\n",
       "      <td>0.051252</td>\n",
       "      <td>0.000</td>\n",
       "      <td>0.027047</td>\n",
       "      <td>0.054154</td>\n",
       "      <td>0.093463</td>\n",
       "      <td>0.323637</td>\n",
       "    </tr>\n",
       "    <tr>\n",
       "      <td>Item_MRP</td>\n",
       "      <td>5681.0</td>\n",
       "      <td>141.023273</td>\n",
       "      <td>61.809091</td>\n",
       "      <td>31.990</td>\n",
       "      <td>94.412000</td>\n",
       "      <td>141.415400</td>\n",
       "      <td>186.026600</td>\n",
       "      <td>266.588400</td>\n",
       "    </tr>\n",
       "    <tr>\n",
       "      <td>Outlet_Establishment_Year</td>\n",
       "      <td>5681.0</td>\n",
       "      <td>1997.828903</td>\n",
       "      <td>8.372256</td>\n",
       "      <td>1985.000</td>\n",
       "      <td>1987.000000</td>\n",
       "      <td>1999.000000</td>\n",
       "      <td>2004.000000</td>\n",
       "      <td>2009.000000</td>\n",
       "    </tr>\n",
       "  </tbody>\n",
       "</table>\n",
       "</div>"
      ],
      "text/plain": [
       "                            count         mean        std       min  \\\n",
       "Item_Weight                4705.0    12.695633   4.664849     4.555   \n",
       "Item_Visibility            5681.0     0.065684   0.051252     0.000   \n",
       "Item_MRP                   5681.0   141.023273  61.809091    31.990   \n",
       "Outlet_Establishment_Year  5681.0  1997.828903   8.372256  1985.000   \n",
       "\n",
       "                                   25%          50%          75%          max  \n",
       "Item_Weight                   8.645000    12.500000    16.700000    21.350000  \n",
       "Item_Visibility               0.027047     0.054154     0.093463     0.323637  \n",
       "Item_MRP                     94.412000   141.415400   186.026600   266.588400  \n",
       "Outlet_Establishment_Year  1987.000000  1999.000000  2004.000000  2009.000000  "
      ]
     },
     "execution_count": 11,
     "metadata": {},
     "output_type": "execute_result"
    }
   ],
   "source": [
    "test.describe().T"
   ]
  },
  {
   "cell_type": "markdown",
   "metadata": {},
   "source": [
    "Inference:\n",
    "    \n",
    "- Values in the above column show that there are outliers and skewness present.\n",
    "\n",
    "- Item_Weight is having spread on left and right side of the data.\n",
    "\n",
    "- Item_Visibility is having right skewness.\n",
    "\n",
    "- Item_MRP is having spread on both side of data."
   ]
  },
  {
   "cell_type": "code",
   "execution_count": 12,
   "metadata": {},
   "outputs": [],
   "source": [
    "#combining both datasets\n",
    "\n",
    "combined=pd.concat([train,test],sort=False,ignore_index=True)"
   ]
  },
  {
   "cell_type": "code",
   "execution_count": 13,
   "metadata": {},
   "outputs": [
    {
     "name": "stdout",
     "output_type": "stream",
     "text": [
      "<class 'pandas.core.frame.DataFrame'>\n",
      "RangeIndex: 14204 entries, 0 to 14203\n",
      "Data columns (total 12 columns):\n",
      "Item_Identifier              14204 non-null object\n",
      "Item_Weight                  11765 non-null float64\n",
      "Item_Fat_Content             14204 non-null object\n",
      "Item_Visibility              14204 non-null float64\n",
      "Item_Type                    14204 non-null object\n",
      "Item_MRP                     14204 non-null float64\n",
      "Outlet_Identifier            14204 non-null object\n",
      "Outlet_Establishment_Year    14204 non-null int64\n",
      "Outlet_Size                  10188 non-null object\n",
      "Outlet_Location_Type         14204 non-null object\n",
      "Outlet_Type                  14204 non-null object\n",
      "Item_Outlet_Sales            8523 non-null float64\n",
      "dtypes: float64(4), int64(1), object(7)\n",
      "memory usage: 1.3+ MB\n"
     ]
    }
   ],
   "source": [
    "combined.info()"
   ]
  },
  {
   "cell_type": "markdown",
   "metadata": {},
   "source": [
    "- After combining we see maximum NA values in Item_Outlet_Sales because target attribute is missing in test dataset."
   ]
  },
  {
   "cell_type": "code",
   "execution_count": 14,
   "metadata": {},
   "outputs": [
    {
     "data": {
      "text/html": [
       "<div>\n",
       "<style scoped>\n",
       "    .dataframe tbody tr th:only-of-type {\n",
       "        vertical-align: middle;\n",
       "    }\n",
       "\n",
       "    .dataframe tbody tr th {\n",
       "        vertical-align: top;\n",
       "    }\n",
       "\n",
       "    .dataframe thead th {\n",
       "        text-align: right;\n",
       "    }\n",
       "</style>\n",
       "<table border=\"1\" class=\"dataframe\">\n",
       "  <thead>\n",
       "    <tr style=\"text-align: right;\">\n",
       "      <th></th>\n",
       "      <th>count</th>\n",
       "      <th>mean</th>\n",
       "      <th>std</th>\n",
       "      <th>min</th>\n",
       "      <th>25%</th>\n",
       "      <th>50%</th>\n",
       "      <th>75%</th>\n",
       "      <th>max</th>\n",
       "    </tr>\n",
       "  </thead>\n",
       "  <tbody>\n",
       "    <tr>\n",
       "      <td>Item_Weight</td>\n",
       "      <td>11765.0</td>\n",
       "      <td>12.792854</td>\n",
       "      <td>4.652502</td>\n",
       "      <td>4.555</td>\n",
       "      <td>8.710000</td>\n",
       "      <td>12.600000</td>\n",
       "      <td>16.750000</td>\n",
       "      <td>21.350000</td>\n",
       "    </tr>\n",
       "    <tr>\n",
       "      <td>Item_Visibility</td>\n",
       "      <td>14204.0</td>\n",
       "      <td>0.065953</td>\n",
       "      <td>0.051459</td>\n",
       "      <td>0.000</td>\n",
       "      <td>0.027036</td>\n",
       "      <td>0.054021</td>\n",
       "      <td>0.094037</td>\n",
       "      <td>0.328391</td>\n",
       "    </tr>\n",
       "    <tr>\n",
       "      <td>Item_MRP</td>\n",
       "      <td>14204.0</td>\n",
       "      <td>141.004977</td>\n",
       "      <td>62.086938</td>\n",
       "      <td>31.290</td>\n",
       "      <td>94.012000</td>\n",
       "      <td>142.247000</td>\n",
       "      <td>185.855600</td>\n",
       "      <td>266.888400</td>\n",
       "    </tr>\n",
       "    <tr>\n",
       "      <td>Outlet_Establishment_Year</td>\n",
       "      <td>14204.0</td>\n",
       "      <td>1997.830681</td>\n",
       "      <td>8.371664</td>\n",
       "      <td>1985.000</td>\n",
       "      <td>1987.000000</td>\n",
       "      <td>1999.000000</td>\n",
       "      <td>2004.000000</td>\n",
       "      <td>2009.000000</td>\n",
       "    </tr>\n",
       "    <tr>\n",
       "      <td>Item_Outlet_Sales</td>\n",
       "      <td>8523.0</td>\n",
       "      <td>2181.288914</td>\n",
       "      <td>1706.499616</td>\n",
       "      <td>33.290</td>\n",
       "      <td>834.247400</td>\n",
       "      <td>1794.331000</td>\n",
       "      <td>3101.296400</td>\n",
       "      <td>13086.964800</td>\n",
       "    </tr>\n",
       "  </tbody>\n",
       "</table>\n",
       "</div>"
      ],
      "text/plain": [
       "                             count         mean          std       min  \\\n",
       "Item_Weight                11765.0    12.792854     4.652502     4.555   \n",
       "Item_Visibility            14204.0     0.065953     0.051459     0.000   \n",
       "Item_MRP                   14204.0   141.004977    62.086938    31.290   \n",
       "Outlet_Establishment_Year  14204.0  1997.830681     8.371664  1985.000   \n",
       "Item_Outlet_Sales           8523.0  2181.288914  1706.499616    33.290   \n",
       "\n",
       "                                   25%          50%          75%           max  \n",
       "Item_Weight                   8.710000    12.600000    16.750000     21.350000  \n",
       "Item_Visibility               0.027036     0.054021     0.094037      0.328391  \n",
       "Item_MRP                     94.012000   142.247000   185.855600    266.888400  \n",
       "Outlet_Establishment_Year  1987.000000  1999.000000  2004.000000   2009.000000  \n",
       "Item_Outlet_Sales           834.247400  1794.331000  3101.296400  13086.964800  "
      ]
     },
     "execution_count": 14,
     "metadata": {},
     "output_type": "execute_result"
    }
   ],
   "source": [
    "combined.describe().T"
   ]
  },
  {
   "cell_type": "code",
   "execution_count": 15,
   "metadata": {},
   "outputs": [
    {
     "data": {
      "text/plain": [
       "Item_Weight          2439\n",
       "Outlet_Size          4016\n",
       "Item_Outlet_Sales    5681\n",
       "dtype: int64"
      ]
     },
     "execution_count": 15,
     "metadata": {},
     "output_type": "execute_result"
    }
   ],
   "source": [
    "combined.isnull().sum()[combined.isnull().sum()!=0]"
   ]
  },
  {
   "cell_type": "markdown",
   "metadata": {},
   "source": [
    "# Data Visualization- UniVariate Analysis:\n",
    "\n",
    "- For Numerical data we use Histogram/Distplot,but it cannot be plotted with null values"
   ]
  },
  {
   "cell_type": "code",
   "execution_count": 16,
   "metadata": {},
   "outputs": [
    {
     "data": {
      "image/png": "[encoded data removed]",
      "text/plain": [
       "<Figure size 432x288 with 1 Axes>"
      ]
     },
     "metadata": {
      "needs_background": "light"
     },
     "output_type": "display_data"
    }
   ],
   "source": [
    "#Target Variable\n",
    "\n",
    "sns.distplot(train['Item_Outlet_Sales'],color='red')\n",
    "plt.xlabel('Item Outlet Sales')\n",
    "plt.ylabel('frequency')\n",
    "plt.show()\n",
    "\n"
   ]
  },
  {
   "cell_type": "markdown",
   "metadata": {},
   "source": [
    "- Diagram shows that data is right skewed.\n",
    "\n",
    "- We dont check for combined dataset as there are missing values present."
   ]
  },
  {
   "cell_type": "code",
   "execution_count": 17,
   "metadata": {},
   "outputs": [
    {
     "data": {
      "image/png": "[encoded data removed]",
      "text/plain": [
       "<Figure size 432x288 with 1 Axes>"
      ]
     },
     "metadata": {
      "needs_background": "light"
     },
     "output_type": "display_data"
    }
   ],
   "source": [
    "#Item_Weight- this variable have null values so we will drop the null values and then plot the graph\n",
    "\n",
    "sns.distplot(combined['Item_Weight'].dropna(),color='blue')\n",
    "plt.xlabel('Item Weight')\n",
    "plt.show()"
   ]
  },
  {
   "cell_type": "code",
   "execution_count": 18,
   "metadata": {},
   "outputs": [
    {
     "data": {
      "image/png": "[encoded data removed]",
      "text/plain": [
       "<Figure size 432x288 with 1 Axes>"
      ]
     },
     "metadata": {
      "needs_background": "light"
     },
     "output_type": "display_data"
    }
   ],
   "source": [
    "#Item Visibility\n",
    "\n",
    "sns.distplot(combined['Item_Visibility'])\n",
    "plt.xlabel('Item Visibility')\n",
    "plt.show()\n"
   ]
  },
  {
   "cell_type": "markdown",
   "metadata": {},
   "source": [
    "- Right skewness is present in the data for Item Visibility attribute and it shows 0 visibility which is not possible and we will look at this in further steps"
   ]
  },
  {
   "cell_type": "code",
   "execution_count": 19,
   "metadata": {},
   "outputs": [
    {
     "data": {
      "image/png": "[encoded data removed]",
      "text/plain": [
       "<Figure size 432x288 with 1 Axes>"
      ]
     },
     "metadata": {
      "needs_background": "light"
     },
     "output_type": "display_data"
    }
   ],
   "source": [
    "#Item_MRP\n",
    "\n",
    "sns.distplot(combined['Item_MRP'])\n",
    "plt.xlabel('Item MRP')\n",
    "plt.show()\n",
    "\n",
    "#This tells us that there are many different values with high frequency and therefore we see this kind of spread in the graph."
   ]
  },
  {
   "cell_type": "code",
   "execution_count": 20,
   "metadata": {},
   "outputs": [
    {
     "data": {
      "image/png": "[encoded data removed]",
      "text/plain": [
       "<Figure size 432x288 with 1 Axes>"
      ]
     },
     "metadata": {
      "needs_background": "light"
     },
     "output_type": "display_data"
    }
   ],
   "source": [
    "#Outlet_Establishment_Year\n",
    "\n",
    "sns.distplot(combined['Outlet_Establishment_Year'])\n",
    "plt.xlabel('Outlet_Establishment_Year')\n",
    "plt.show()\n"
   ]
  },
  {
   "cell_type": "markdown",
   "metadata": {},
   "source": [
    "- This graph shows that first mart was opened in year 1985 and later on there were many BigSalesMart opened between the year 196-2010.\n",
    "\n",
    "- The drop shows that there were no opening/new mart in the initial year after the first mart was opened and even later they was gap between the opening of new marts."
   ]
  },
  {
   "cell_type": "markdown",
   "metadata": {},
   "source": [
    "# Univariate Analysis- Categorical Variable\n",
    "\n",
    "- We use value_count function to get the count of the items present in categorical variable\n",
    "\n",
    "- Barplot is used for plotting categorical variable"
   ]
  },
  {
   "cell_type": "code",
   "execution_count": 21,
   "metadata": {},
   "outputs": [
    {
     "data": {
      "text/plain": [
       "Low Fat    5089\n",
       "Regular    2889\n",
       "LF          316\n",
       "reg         117\n",
       "low fat     112\n",
       "Name: Item_Fat_Content, dtype: int64"
      ]
     },
     "execution_count": 21,
     "metadata": {},
     "output_type": "execute_result"
    }
   ],
   "source": [
    "train['Item_Fat_Content'].value_counts()"
   ]
  },
  {
   "cell_type": "markdown",
   "metadata": {},
   "source": [
    "- From the values we get that,the same content is written in different ways i.e Low Fat/LF/low fat & Regular/reg\n",
    "\n",
    "- Therefore we use replace function and reduce the items and add them to their respective and correct column"
   ]
  },
  {
   "cell_type": "code",
   "execution_count": 22,
   "metadata": {},
   "outputs": [],
   "source": [
    "train['Item_Fat_Content'].replace(to_replace=['LF','low fat','reg'],value=['Low Fat','Low Fat','Regular'],inplace=True)"
   ]
  },
  {
   "cell_type": "code",
   "execution_count": 23,
   "metadata": {},
   "outputs": [
    {
     "data": {
      "text/plain": [
       "Low Fat    5517\n",
       "Regular    3006\n",
       "Name: Item_Fat_Content, dtype: int64"
      ]
     },
     "execution_count": 23,
     "metadata": {},
     "output_type": "execute_result"
    }
   ],
   "source": [
    "train['Item_Fat_Content'].value_counts()"
   ]
  },
  {
   "cell_type": "code",
   "execution_count": 24,
   "metadata": {},
   "outputs": [
    {
     "data": {
      "text/plain": [
       "Low Fat    3396\n",
       "Regular    1935\n",
       "LF          206\n",
       "reg          78\n",
       "low fat      66\n",
       "Name: Item_Fat_Content, dtype: int64"
      ]
     },
     "execution_count": 24,
     "metadata": {},
     "output_type": "execute_result"
    }
   ],
   "source": [
    "test['Item_Fat_Content'].value_counts()"
   ]
  },
  {
   "cell_type": "code",
   "execution_count": 25,
   "metadata": {},
   "outputs": [],
   "source": [
    "test['Item_Fat_Content'].replace(to_replace=['LF','low fat','reg'],value=['Low Fat','Low Fat','Regular'],inplace=True)"
   ]
  },
  {
   "cell_type": "code",
   "execution_count": 26,
   "metadata": {},
   "outputs": [
    {
     "data": {
      "text/plain": [
       "Low Fat    3668\n",
       "Regular    2013\n",
       "Name: Item_Fat_Content, dtype: int64"
      ]
     },
     "execution_count": 26,
     "metadata": {},
     "output_type": "execute_result"
    }
   ],
   "source": [
    "test['Item_Fat_Content'].value_counts()"
   ]
  },
  {
   "cell_type": "code",
   "execution_count": 27,
   "metadata": {},
   "outputs": [],
   "source": [
    "combined['Item_Fat_Content'].replace(to_replace=['LF','low fat','reg'],value=['Low Fat','Low Fat','Regular'],inplace=True)"
   ]
  },
  {
   "cell_type": "code",
   "execution_count": 28,
   "metadata": {},
   "outputs": [
    {
     "data": {
      "image/png": "[encoded data removed]",
      "text/plain": [
       "<Figure size 432x288 with 1 Axes>"
      ]
     },
     "metadata": {
      "needs_background": "light"
     },
     "output_type": "display_data"
    }
   ],
   "source": [
    "combined['Item_Fat_Content'].value_counts().plot(kind='bar')\n",
    "plt.xlabel('Item Fat Content')\n",
    "plt.show()\n",
    "\n",
    "#Graph shows that frequency of low fat items is more than Regular items"
   ]
  },
  {
   "cell_type": "code",
   "execution_count": 29,
   "metadata": {},
   "outputs": [
    {
     "data": {
      "image/png": "[encoded data removed]",
      "text/plain": [
       "<Figure size 432x288 with 1 Axes>"
      ]
     },
     "metadata": {
      "needs_background": "light"
     },
     "output_type": "display_data"
    }
   ],
   "source": [
    "#Outlet_Identifier\n",
    "\n",
    "combined['Outlet_Identifier'].value_counts().plot(kind='bar')\n",
    "plt.xlabel('Outlet Identifier')\n",
    "plt.show()\n"
   ]
  },
  {
   "cell_type": "code",
   "execution_count": 30,
   "metadata": {},
   "outputs": [
    {
     "data": {
      "image/png": "[encoded data removed]",
      "text/plain": [
       "<Figure size 432x288 with 1 Axes>"
      ]
     },
     "metadata": {
      "needs_background": "light"
     },
     "output_type": "display_data"
    }
   ],
   "source": [
    "#Item Type\n",
    "\n",
    "combined['Item_Type'].value_counts().plot(kind='bar')\n",
    "plt.xlabel('Item Type')\n",
    "plt.show()\n",
    "\n",
    "#Fruits,vegetables and snack foods are in higher quantity whereas stock of seafood is less."
   ]
  },
  {
   "cell_type": "code",
   "execution_count": 31,
   "metadata": {},
   "outputs": [
    {
     "data": {
      "image/png": "[encoded data removed]",
      "text/plain": [
       "<Figure size 432x288 with 1 Axes>"
      ]
     },
     "metadata": {
      "needs_background": "light"
     },
     "output_type": "display_data"
    }
   ],
   "source": [
    "#Outlet Location Type\n",
    "\n",
    "combined['Outlet_Location_Type'].value_counts().plot(kind='bar')\n",
    "plt.xlabel('Outlet Location Type')\n",
    "plt.show()\n",
    "\n",
    "#Tier3 have higher frequency in the outlet location type"
   ]
  },
  {
   "cell_type": "markdown",
   "metadata": {},
   "source": [
    "# Bivariate Analysis: Numerical vs Numerical\n",
    "\n",
    "- For bivariate analysis: num vs num data we use SCATTER PLOT and it can be plotted with missing values present in it."
   ]
  },
  {
   "cell_type": "code",
   "execution_count": 32,
   "metadata": {},
   "outputs": [
    {
     "data": {
      "text/html": [
       "<div>\n",
       "<style scoped>\n",
       "    .dataframe tbody tr th:only-of-type {\n",
       "        vertical-align: middle;\n",
       "    }\n",
       "\n",
       "    .dataframe tbody tr th {\n",
       "        vertical-align: top;\n",
       "    }\n",
       "\n",
       "    .dataframe thead th {\n",
       "        text-align: right;\n",
       "    }\n",
       "</style>\n",
       "<table border=\"1\" class=\"dataframe\">\n",
       "  <thead>\n",
       "    <tr style=\"text-align: right;\">\n",
       "      <th></th>\n",
       "      <th>Item_Weight</th>\n",
       "      <th>Item_Visibility</th>\n",
       "      <th>Item_MRP</th>\n",
       "      <th>Outlet_Establishment_Year</th>\n",
       "      <th>Item_Outlet_Sales</th>\n",
       "    </tr>\n",
       "  </thead>\n",
       "  <tbody>\n",
       "    <tr>\n",
       "      <td>Item_Weight</td>\n",
       "      <td>1.000000</td>\n",
       "      <td>-0.015901</td>\n",
       "      <td>0.036236</td>\n",
       "      <td>0.000645</td>\n",
       "      <td>0.014123</td>\n",
       "    </tr>\n",
       "    <tr>\n",
       "      <td>Item_Visibility</td>\n",
       "      <td>-0.015901</td>\n",
       "      <td>1.000000</td>\n",
       "      <td>-0.006351</td>\n",
       "      <td>-0.083678</td>\n",
       "      <td>-0.128625</td>\n",
       "    </tr>\n",
       "    <tr>\n",
       "      <td>Item_MRP</td>\n",
       "      <td>0.036236</td>\n",
       "      <td>-0.006351</td>\n",
       "      <td>1.000000</td>\n",
       "      <td>0.000141</td>\n",
       "      <td>0.567574</td>\n",
       "    </tr>\n",
       "    <tr>\n",
       "      <td>Outlet_Establishment_Year</td>\n",
       "      <td>0.000645</td>\n",
       "      <td>-0.083678</td>\n",
       "      <td>0.000141</td>\n",
       "      <td>1.000000</td>\n",
       "      <td>-0.049135</td>\n",
       "    </tr>\n",
       "    <tr>\n",
       "      <td>Item_Outlet_Sales</td>\n",
       "      <td>0.014123</td>\n",
       "      <td>-0.128625</td>\n",
       "      <td>0.567574</td>\n",
       "      <td>-0.049135</td>\n",
       "      <td>1.000000</td>\n",
       "    </tr>\n",
       "  </tbody>\n",
       "</table>\n",
       "</div>"
      ],
      "text/plain": [
       "                           Item_Weight  Item_Visibility  Item_MRP  \\\n",
       "Item_Weight                   1.000000        -0.015901  0.036236   \n",
       "Item_Visibility              -0.015901         1.000000 -0.006351   \n",
       "Item_MRP                      0.036236        -0.006351  1.000000   \n",
       "Outlet_Establishment_Year     0.000645        -0.083678  0.000141   \n",
       "Item_Outlet_Sales             0.014123        -0.128625  0.567574   \n",
       "\n",
       "                           Outlet_Establishment_Year  Item_Outlet_Sales  \n",
       "Item_Weight                                 0.000645           0.014123  \n",
       "Item_Visibility                            -0.083678          -0.128625  \n",
       "Item_MRP                                    0.000141           0.567574  \n",
       "Outlet_Establishment_Year                   1.000000          -0.049135  \n",
       "Item_Outlet_Sales                          -0.049135           1.000000  "
      ]
     },
     "execution_count": 32,
     "metadata": {},
     "output_type": "execute_result"
    }
   ],
   "source": [
    "#correlation\n",
    "\n",
    "combined.corr()\n"
   ]
  },
  {
   "cell_type": "markdown",
   "metadata": {},
   "source": [
    "- Item MRP is highly correlated with target attribute.\n",
    "\n",
    "- Item Visibility,Outlet_Establishment_year are negatively correlated with target variable"
   ]
  },
  {
   "cell_type": "code",
   "execution_count": 33,
   "metadata": {},
   "outputs": [
    {
     "data": {
      "image/png": "[encoded data removed]",
      "text/plain": [
       "<Figure size 432x288 with 1 Axes>"
      ]
     },
     "metadata": {
      "needs_background": "light"
     },
     "output_type": "display_data"
    }
   ],
   "source": [
    "#Target vs Predictor(Item_weight)\n",
    "\n",
    "plt.scatter(combined['Item_Weight'],combined['Item_Outlet_Sales'],color='coral')\n",
    "plt.xlabel('Item Weight')\n",
    "plt.ylabel('Item Outlet Sales')\n",
    "plt.show()"
   ]
  },
  {
   "cell_type": "code",
   "execution_count": 34,
   "metadata": {},
   "outputs": [
    {
     "data": {
      "image/png": "[encoded data removed]",
      "text/plain": [
       "<Figure size 432x288 with 1 Axes>"
      ]
     },
     "metadata": {
      "needs_background": "light"
     },
     "output_type": "display_data"
    }
   ],
   "source": [
    "#Target vs Predictor(Item_weight)\n",
    "\n",
    "plt.scatter(combined['Item_Visibility'],combined['Item_Outlet_Sales'])\n",
    "plt.xlabel('Item Visibility')\n",
    "plt.ylabel('Item Outlet Sales')\n",
    "plt.show()"
   ]
  },
  {
   "cell_type": "markdown",
   "metadata": {},
   "source": [
    "- As seen in correlation table Item_weight-Item_Outlet_Sales are negatively correlated and we see that in our graph.\n",
    "\n",
    "- As Item Visibility increases Item Outlet Sales decreases, we can assume that Highly visible items can be washing machine/oven or things like that which does not have sales on daily bases."
   ]
  },
  {
   "cell_type": "code",
   "execution_count": 35,
   "metadata": {},
   "outputs": [
    {
     "data": {
      "image/png": "[encoded data removed]",
      "text/plain": [
       "<Figure size 432x288 with 1 Axes>"
      ]
     },
     "metadata": {
      "needs_background": "light"
     },
     "output_type": "display_data"
    }
   ],
   "source": [
    "#Target vs Predictor(Item_MRP)\n",
    "\n",
    "plt.scatter(combined['Item_MRP'],combined['Item_Outlet_Sales'],color='coral')\n",
    "plt.xlabel('Item MRP')\n",
    "plt.ylabel('Item Outlet Sales')\n",
    "plt.show()"
   ]
  },
  {
   "cell_type": "markdown",
   "metadata": {},
   "source": [
    "- There is high correlation between Item_MRP and target attribute.\n",
    "\n",
    "- In the graph we observe that as MRP increases Item sales also increases,this shows that sales of items with higher MRP is more."
   ]
  },
  {
   "cell_type": "code",
   "execution_count": 36,
   "metadata": {},
   "outputs": [
    {
     "data": {
      "image/png": "[encoded data removed]",
      "text/plain": [
       "<Figure size 432x288 with 1 Axes>"
      ]
     },
     "metadata": {
      "needs_background": "light"
     },
     "output_type": "display_data"
    }
   ],
   "source": [
    "#Target vs Predictor(Outlet_Establishment_year)\n",
    "\n",
    "plt.scatter(combined['Outlet_Establishment_Year'],combined['Item_Outlet_Sales'],color='coral')\n",
    "plt.xlabel('Outlet Establishment Year')\n",
    "plt.ylabel('Item Outlet Sales')\n",
    "plt.show()"
   ]
  },
  {
   "cell_type": "markdown",
   "metadata": {},
   "source": [
    "- As observed in the univariate analysis there was major gap between the new openings of Big Sales Mart and the same we observe in the above graph.\n",
    "\n",
    "- Also there was higher sales in the initial year when the mart was started,but there is a downfall seen in the later years when new marts were opened. \n",
    "\n",
    "- We can try and find the reason behind the downfall in the sales of the new marts."
   ]
  },
  {
   "cell_type": "markdown",
   "metadata": {},
   "source": [
    "# Bivariate Analysis: Numerical vs Categorical\n",
    "\n",
    "- We use boxplot for plotting num vs cat data.\n",
    "\n",
    "- In boxplot we have IQR(Inter Quartile Range)= Q3-Q1\n",
    "\n",
    "    where Q1=25%, Q2=50%(Median), Q3=75%\n",
    "    \n",
    "    Lower Boundary= Q1 - 1.5 * IQR\n",
    "    \n",
    "    Upper Boundary= Q3 + 1.5 * IQR\n",
    "    \n",
    "     \n",
    "- It helps us analyse if there are outlier present in the data"
   ]
  },
  {
   "cell_type": "code",
   "execution_count": 37,
   "metadata": {},
   "outputs": [
    {
     "data": {
      "text/plain": [
       "Item_Identifier               object\n",
       "Item_Weight                  float64\n",
       "Item_Fat_Content              object\n",
       "Item_Visibility              float64\n",
       "Item_Type                     object\n",
       "Item_MRP                     float64\n",
       "Outlet_Identifier             object\n",
       "Outlet_Establishment_Year      int64\n",
       "Outlet_Size                   object\n",
       "Outlet_Location_Type          object\n",
       "Outlet_Type                   object\n",
       "Item_Outlet_Sales            float64\n",
       "dtype: object"
      ]
     },
     "execution_count": 37,
     "metadata": {},
     "output_type": "execute_result"
    }
   ],
   "source": [
    "combined.dtypes"
   ]
  },
  {
   "cell_type": "code",
   "execution_count": 38,
   "metadata": {},
   "outputs": [
    {
     "data": {
      "image/png": "[encoded data removed]",
      "text/plain": [
       "<Figure size 432x288 with 1 Axes>"
      ]
     },
     "metadata": {
      "needs_background": "light"
     },
     "output_type": "display_data"
    }
   ],
   "source": [
    "sns.boxplot(x='Item_Fat_Content',y='Item_Outlet_Sales',data=combined)\n",
    "plt.show()\n",
    "\n",
    "#Graph shows there are outlier present for both Low Fat and Regular item w.r.t Item Outlet Sales"
   ]
  },
  {
   "cell_type": "code",
   "execution_count": 39,
   "metadata": {},
   "outputs": [
    {
     "data": {
      "text/html": [
       "<div>\n",
       "<style scoped>\n",
       "    .dataframe tbody tr th:only-of-type {\n",
       "        vertical-align: middle;\n",
       "    }\n",
       "\n",
       "    .dataframe tbody tr th {\n",
       "        vertical-align: top;\n",
       "    }\n",
       "\n",
       "    .dataframe thead th {\n",
       "        text-align: right;\n",
       "    }\n",
       "</style>\n",
       "<table border=\"1\" class=\"dataframe\">\n",
       "  <thead>\n",
       "    <tr style=\"text-align: right;\">\n",
       "      <th>Item_Fat_Content</th>\n",
       "      <th>Low Fat</th>\n",
       "      <th>Regular</th>\n",
       "    </tr>\n",
       "  </thead>\n",
       "  <tbody>\n",
       "    <tr>\n",
       "      <td>count</td>\n",
       "      <td>5517.000000</td>\n",
       "      <td>3006.000000</td>\n",
       "    </tr>\n",
       "    <tr>\n",
       "      <td>mean</td>\n",
       "      <td>2157.711534</td>\n",
       "      <td>2224.561170</td>\n",
       "    </tr>\n",
       "    <tr>\n",
       "      <td>std</td>\n",
       "      <td>1697.973824</td>\n",
       "      <td>1721.480865</td>\n",
       "    </tr>\n",
       "    <tr>\n",
       "      <td>min</td>\n",
       "      <td>33.290000</td>\n",
       "      <td>33.955800</td>\n",
       "    </tr>\n",
       "    <tr>\n",
       "      <td>25%</td>\n",
       "      <td>826.257800</td>\n",
       "      <td>857.550400</td>\n",
       "    </tr>\n",
       "    <tr>\n",
       "      <td>50%</td>\n",
       "      <td>1765.035800</td>\n",
       "      <td>1844.598900</td>\n",
       "    </tr>\n",
       "    <tr>\n",
       "      <td>75%</td>\n",
       "      <td>3050.695600</td>\n",
       "      <td>3198.669650</td>\n",
       "    </tr>\n",
       "    <tr>\n",
       "      <td>max</td>\n",
       "      <td>13086.964800</td>\n",
       "      <td>12117.560000</td>\n",
       "    </tr>\n",
       "  </tbody>\n",
       "</table>\n",
       "</div>"
      ],
      "text/plain": [
       "Item_Fat_Content       Low Fat       Regular\n",
       "count              5517.000000   3006.000000\n",
       "mean               2157.711534   2224.561170\n",
       "std                1697.973824   1721.480865\n",
       "min                  33.290000     33.955800\n",
       "25%                 826.257800    857.550400\n",
       "50%                1765.035800   1844.598900\n",
       "75%                3050.695600   3198.669650\n",
       "max               13086.964800  12117.560000"
      ]
     },
     "execution_count": 39,
     "metadata": {},
     "output_type": "execute_result"
    }
   ],
   "source": [
    "combined.groupby('Item_Fat_Content')['Item_Outlet_Sales'].describe().T"
   ]
  },
  {
   "cell_type": "markdown",
   "metadata": {},
   "source": [
    "- There is difference between mean and median value, as mean is higher than median we can say that there are outliers are present in the data.\n",
    "\n",
    "- Also the difference between (max-75%) is high for both column so we can predict there are outliers present."
   ]
  },
  {
   "cell_type": "code",
   "execution_count": 40,
   "metadata": {},
   "outputs": [
    {
     "data": {
      "image/png": "[encoded data removed]",
      "text/plain": [
       "<Figure size 432x288 with 1 Axes>"
      ]
     },
     "metadata": {
      "needs_background": "light"
     },
     "output_type": "display_data"
    }
   ],
   "source": [
    "sns.boxplot(x='Item_Type',y='Item_Outlet_Sales',data=combined)\n",
    "plt.xticks(rotation=90)\n",
    "plt.show()\n",
    "\n",
    "#Outliers are present for almost all items excluding seafood\n",
    "#Higher outliers are present for fruits and vegetables,household,snack foods."
   ]
  },
  {
   "cell_type": "code",
   "execution_count": 41,
   "metadata": {},
   "outputs": [
    {
     "data": {
      "image/png": "[encoded data removed]",
      "text/plain": [
       "<Figure size 432x288 with 1 Axes>"
      ]
     },
     "metadata": {
      "needs_background": "light"
     },
     "output_type": "display_data"
    }
   ],
   "source": [
    "sns.boxplot(x='Outlet_Identifier',y='Item_Outlet_Sales',data=combined)\n",
    "plt.xticks(rotation=90)\n",
    "plt.show()\n",
    "\n",
    "#Graph shows that OUT27,OUT13,OUT49 have higher sales as compared to others.\n",
    "#OUT10,OUT19 can be considered as lowest w.r.t sales"
   ]
  },
  {
   "cell_type": "code",
   "execution_count": 42,
   "metadata": {},
   "outputs": [
    {
     "data": {
      "image/png": "[encoded data removed]",
      "text/plain": [
       "<Figure size 432x288 with 1 Axes>"
      ]
     },
     "metadata": {
      "needs_background": "light"
     },
     "output_type": "display_data"
    }
   ],
   "source": [
    "sns.boxplot(x='Outlet_Size',y='Item_Outlet_Sales',data=combined)\n",
    "plt.show()\n",
    "\n",
    "#Amongst all the outliers size,Medium size marts have more sales"
   ]
  },
  {
   "cell_type": "code",
   "execution_count": 43,
   "metadata": {},
   "outputs": [
    {
     "data": {
      "image/png": "[encoded data removed]",
      "text/plain": [
       "<Figure size 432x288 with 1 Axes>"
      ]
     },
     "metadata": {
      "needs_background": "light"
     },
     "output_type": "display_data"
    }
   ],
   "source": [
    "sns.boxplot(x='Outlet_Location_Type',y='Item_Outlet_Sales',data=combined)\n",
    "plt.show()\n",
    "\n",
    "#Tier3 location type have more sales compared to other two location type"
   ]
  },
  {
   "cell_type": "code",
   "execution_count": 44,
   "metadata": {},
   "outputs": [
    {
     "data": {
      "image/png": "[encoded data removed]",
      "text/plain": [
       "<Figure size 432x288 with 1 Axes>"
      ]
     },
     "metadata": {
      "needs_background": "light"
     },
     "output_type": "display_data"
    }
   ],
   "source": [
    "sns.boxplot(x='Outlet_Type',y='Item_Outlet_Sales',data=combined)\n",
    "plt.xticks(rotation=45)\n",
    "plt.show()\n",
    "\n",
    "#Supermarket type3 have higher sales followed by supermarket type1"
   ]
  },
  {
   "cell_type": "code",
   "execution_count": 45,
   "metadata": {},
   "outputs": [
    {
     "data": {
      "text/plain": [
       "Outlet_Size  Outlet_Location_Type  Outlet_Type        Outlet_Identifier\n",
       "High         Tier 3                Supermarket Type1  OUT013               1553\n",
       "Medium       Tier 1                Supermarket Type1  OUT049               1550\n",
       "             Tier 3                Supermarket Type2  OUT018               1546\n",
       "                                   Supermarket Type3  OUT027               1559\n",
       "Small        Tier 1                Grocery Store      OUT019                880\n",
       "                                   Supermarket Type1  OUT046               1550\n",
       "             Tier 2                Supermarket Type1  OUT035               1550\n",
       "Name: Outlet_Identifier, dtype: int64"
      ]
     },
     "execution_count": 45,
     "metadata": {},
     "output_type": "execute_result"
    }
   ],
   "source": [
    "(combined.groupby(['Outlet_Size','Outlet_Location_Type','Outlet_Type'])['Outlet_Identifier'].value_counts())"
   ]
  },
  {
   "cell_type": "markdown",
   "metadata": {},
   "source": [
    "Inference:\n",
    "    \n",
    "- As observed in the above visualization and after using groupby function we get that OUT27 with higher sales,is of Medium Outlet Size located in Tier3 with Outlet Type as Supermarket Type3.\n",
    "\n",
    "- With visualization method we could analyze and understand the data in more better way.\n",
    "\n",
    "- Therefore Data Visualization is an important part of any Data Analysis."
   ]
  },
  {
   "cell_type": "markdown",
   "metadata": {},
   "source": [
    "# Missing Data Treatment:\n",
    "\n",
    "- Missing values row can sometime contain important information that can be necessary for further predictions and hence it is not always appropriate option to drop the missing values row.\n",
    "\n",
    "- There are different methods to deal with missing values:\n",
    "    \n",
    "    - Delete the rows\n",
    "    \n",
    "    - Mean/Median/Mode Imputation"
   ]
  },
  {
   "cell_type": "code",
   "execution_count": 46,
   "metadata": {},
   "outputs": [
    {
     "data": {
      "text/plain": [
       "Item_Weight          2439\n",
       "Outlet_Size          4016\n",
       "Item_Outlet_Sales    5681\n",
       "dtype: int64"
      ]
     },
     "execution_count": 46,
     "metadata": {},
     "output_type": "execute_result"
    }
   ],
   "source": [
    "combined.isna().sum()[combined.isna().sum()!=0]"
   ]
  },
  {
   "cell_type": "code",
   "execution_count": 47,
   "metadata": {},
   "outputs": [],
   "source": [
    "from sklearn.preprocessing import LabelEncoder\n",
    "\n",
    "le=LabelEncoder()\n",
    "le_item_identifier=le.fit_transform(combined['Item_Identifier'])"
   ]
  },
  {
   "cell_type": "code",
   "execution_count": 48,
   "metadata": {},
   "outputs": [
    {
     "data": {
      "text/plain": [
       "array([ 156,    8,  662, ..., 1426,  521,  997])"
      ]
     },
     "execution_count": 48,
     "metadata": {},
     "output_type": "execute_result"
    }
   ],
   "source": [
    "le_item_identifier"
   ]
  },
  {
   "cell_type": "code",
   "execution_count": 49,
   "metadata": {},
   "outputs": [],
   "source": [
    "combined['Item_Weight'].fillna(le_item_identifier.mean(),inplace=True)"
   ]
  },
  {
   "cell_type": "code",
   "execution_count": 50,
   "metadata": {},
   "outputs": [],
   "source": [
    "combined['Outlet_Size'].fillna('Small',inplace=True)"
   ]
  },
  {
   "cell_type": "code",
   "execution_count": 51,
   "metadata": {},
   "outputs": [
    {
     "data": {
      "text/plain": [
       "Item_Outlet_Sales    5681\n",
       "dtype: int64"
      ]
     },
     "execution_count": 51,
     "metadata": {},
     "output_type": "execute_result"
    }
   ],
   "source": [
    "combined.isna().sum()[combined.isna().sum()!=0]"
   ]
  },
  {
   "cell_type": "markdown",
   "metadata": {},
   "source": [
    "- Values for both attributes containing NA is imputed.\n",
    "\n",
    "- Will not impute NA values for Target variable.\n",
    "\n",
    "- As observed in Item Visibility column,there was 0 value present in it and that is impossible because there can be no item with 0 visibility"
   ]
  },
  {
   "cell_type": "code",
   "execution_count": 52,
   "metadata": {},
   "outputs": [
    {
     "data": {
      "image/png": "[encoded data removed]",
      "text/plain": [
       "<Figure size 432x288 with 1 Axes>"
      ]
     },
     "metadata": {
      "needs_background": "light"
     },
     "output_type": "display_data"
    }
   ],
   "source": [
    "sns.distplot(combined['Item_Visibility'])\n",
    "plt.show()"
   ]
  },
  {
   "cell_type": "code",
   "execution_count": 53,
   "metadata": {},
   "outputs": [],
   "source": [
    "combined['Item_Visibility'].replace(to_replace=0.00,value=combined['Item_Visibility'].mean(),inplace=True)"
   ]
  },
  {
   "cell_type": "code",
   "execution_count": 54,
   "metadata": {},
   "outputs": [
    {
     "data": {
      "image/png": "[encoded data removed]",
      "text/plain": [
       "<Figure size 432x288 with 1 Axes>"
      ]
     },
     "metadata": {
      "needs_background": "light"
     },
     "output_type": "display_data"
    }
   ],
   "source": [
    "sns.distplot(combined['Item_Visibility'])\n",
    "plt.show()"
   ]
  },
  {
   "cell_type": "markdown",
   "metadata": {},
   "source": [
    "# Feature Engineering\n",
    "\n",
    "- Most of the times, the given features in a dataset are not sufficient to give satisfactory predictions. In such cases, we have to create new features which might help in improving the model’s performance. Let’s try to create some new features for our dataset.\n",
    "\n",
    "\n",
    "First we look at the Item_Type variable and classify the categories into Perishable and Non-Perishable and create a new feature."
   ]
  },
  {
   "cell_type": "code",
   "execution_count": 55,
   "metadata": {},
   "outputs": [
    {
     "data": {
      "text/plain": [
       "array(['Dairy', 'Soft Drinks', 'Meat', 'Fruits and Vegetables',\n",
       "       'Household', 'Baking Goods', 'Snack Foods', 'Frozen Foods',\n",
       "       'Breakfast', 'Health and Hygiene', 'Hard Drinks', 'Canned',\n",
       "       'Breads', 'Starchy Foods', 'Others', 'Seafood'], dtype=object)"
      ]
     },
     "execution_count": 55,
     "metadata": {},
     "output_type": "execute_result"
    }
   ],
   "source": [
    "combined['Item_Type'].unique()"
   ]
  },
  {
   "cell_type": "code",
   "execution_count": 56,
   "metadata": {},
   "outputs": [],
   "source": [
    "perishable=['Meat', 'Fruits and Vegetables','Dairy','Breakfast','Seafood','Breads']\n",
    "\n",
    "non_perishable=['Soft Drinks','Household', 'Baking Goods', 'Snack Foods', 'Frozen Foods','Health and Hygiene', 'Hard Drinks', 'Canned']"
   ]
  },
  {
   "cell_type": "code",
   "execution_count": 57,
   "metadata": {},
   "outputs": [],
   "source": [
    "item_list =[] \n",
    "\n",
    "for i in combined['Item_Type']:\n",
    "    if i in perishable:\n",
    "        item_list.append('perishable')\n",
    "    elif (i in non_perishable):\n",
    "        item_list.append('non_perishable')\n",
    "    else:\n",
    "        item_list.append('others')\n",
    "        \n",
    "combined['Item_Type_new'] = item_list"
   ]
  },
  {
   "cell_type": "code",
   "execution_count": 58,
   "metadata": {},
   "outputs": [],
   "source": [
    "ids=[]\n",
    "\n",
    "for i in combined.Item_Identifier:\n",
    "    ids.append(i[:2])\n",
    "    \n",
    "combined['Id_Category']=pd.Series(ids)"
   ]
  },
  {
   "cell_type": "code",
   "execution_count": 59,
   "metadata": {},
   "outputs": [
    {
     "data": {
      "text/html": [
       "<div>\n",
       "<style scoped>\n",
       "    .dataframe tbody tr th:only-of-type {\n",
       "        vertical-align: middle;\n",
       "    }\n",
       "\n",
       "    .dataframe tbody tr th {\n",
       "        vertical-align: top;\n",
       "    }\n",
       "\n",
       "    .dataframe thead th {\n",
       "        text-align: right;\n",
       "    }\n",
       "</style>\n",
       "<table border=\"1\" class=\"dataframe\">\n",
       "  <thead>\n",
       "    <tr style=\"text-align: right;\">\n",
       "      <th></th>\n",
       "      <th></th>\n",
       "      <th>Item_Type</th>\n",
       "    </tr>\n",
       "    <tr>\n",
       "      <th>Id_Category</th>\n",
       "      <th>Item_Type</th>\n",
       "      <th></th>\n",
       "    </tr>\n",
       "  </thead>\n",
       "  <tbody>\n",
       "    <tr>\n",
       "      <td rowspan=\"3\" valign=\"top\">DR</td>\n",
       "      <td>Soft Drinks</td>\n",
       "      <td>726</td>\n",
       "    </tr>\n",
       "    <tr>\n",
       "      <td>Hard Drinks</td>\n",
       "      <td>362</td>\n",
       "    </tr>\n",
       "    <tr>\n",
       "      <td>Dairy</td>\n",
       "      <td>229</td>\n",
       "    </tr>\n",
       "    <tr>\n",
       "      <td rowspan=\"11\" valign=\"top\">FD</td>\n",
       "      <td>Fruits and Vegetables</td>\n",
       "      <td>2013</td>\n",
       "    </tr>\n",
       "    <tr>\n",
       "      <td>Snack Foods</td>\n",
       "      <td>1989</td>\n",
       "    </tr>\n",
       "    <tr>\n",
       "      <td>Frozen Foods</td>\n",
       "      <td>1426</td>\n",
       "    </tr>\n",
       "    <tr>\n",
       "      <td>Baking Goods</td>\n",
       "      <td>1086</td>\n",
       "    </tr>\n",
       "    <tr>\n",
       "      <td>Canned</td>\n",
       "      <td>1084</td>\n",
       "    </tr>\n",
       "    <tr>\n",
       "      <td>Dairy</td>\n",
       "      <td>907</td>\n",
       "    </tr>\n",
       "    <tr>\n",
       "      <td>Meat</td>\n",
       "      <td>736</td>\n",
       "    </tr>\n",
       "    <tr>\n",
       "      <td>Breads</td>\n",
       "      <td>416</td>\n",
       "    </tr>\n",
       "    <tr>\n",
       "      <td>Starchy Foods</td>\n",
       "      <td>269</td>\n",
       "    </tr>\n",
       "    <tr>\n",
       "      <td>Breakfast</td>\n",
       "      <td>186</td>\n",
       "    </tr>\n",
       "    <tr>\n",
       "      <td>Seafood</td>\n",
       "      <td>89</td>\n",
       "    </tr>\n",
       "    <tr>\n",
       "      <td rowspan=\"3\" valign=\"top\">NC</td>\n",
       "      <td>Household</td>\n",
       "      <td>1548</td>\n",
       "    </tr>\n",
       "    <tr>\n",
       "      <td>Health and Hygiene</td>\n",
       "      <td>858</td>\n",
       "    </tr>\n",
       "    <tr>\n",
       "      <td>Others</td>\n",
       "      <td>280</td>\n",
       "    </tr>\n",
       "  </tbody>\n",
       "</table>\n",
       "</div>"
      ],
      "text/plain": [
       "                                   Item_Type\n",
       "Id_Category Item_Type                       \n",
       "DR          Soft Drinks                  726\n",
       "            Hard Drinks                  362\n",
       "            Dairy                        229\n",
       "FD          Fruits and Vegetables       2013\n",
       "            Snack Foods                 1989\n",
       "            Frozen Foods                1426\n",
       "            Baking Goods                1086\n",
       "            Canned                      1084\n",
       "            Dairy                        907\n",
       "            Meat                         736\n",
       "            Breads                       416\n",
       "            Starchy Foods                269\n",
       "            Breakfast                    186\n",
       "            Seafood                       89\n",
       "NC          Household                   1548\n",
       "            Health and Hygiene           858\n",
       "            Others                       280"
      ]
     },
     "execution_count": 59,
     "metadata": {},
     "output_type": "execute_result"
    }
   ],
   "source": [
    "pd.DataFrame(combined.groupby('Id_Category')['Item_Type'].value_counts())"
   ]
  },
  {
   "cell_type": "code",
   "execution_count": 60,
   "metadata": {},
   "outputs": [],
   "source": [
    "#change regular category where there is NC in 'item_cat' to 'Non Edible'\n",
    "combined.loc[combined.Id_Category=='NC','Item_Fat_Content']='Non Edible'"
   ]
  },
  {
   "cell_type": "markdown",
   "metadata": {},
   "source": [
    "combined.Item_Fat_Content.replace(to_replace=['LF','low fat','reg'],value=['Low Fat','Low Fat','Regular'],inplace=True)"
   ]
  },
  {
   "cell_type": "code",
   "execution_count": 61,
   "metadata": {},
   "outputs": [
    {
     "data": {
      "image/png": "[encoded data removed]",
      "text/plain": [
       "<Figure size 432x288 with 1 Axes>"
      ]
     },
     "metadata": {
      "needs_background": "light"
     },
     "output_type": "display_data"
    }
   ],
   "source": [
    "combined.Item_Fat_Content.value_counts().plot(kind='bar')\n",
    "plt.xlabel('Item Fat Content')\n",
    "plt.xticks(rotation=45)\n",
    "plt.show()"
   ]
  },
  {
   "cell_type": "markdown",
   "metadata": {},
   "source": [
    "- Hence we have created a new feature in Item_Fat_Content i.e Non Edible.\n",
    "\n",
    "- Also we have differentiated Item_Type into Perishable and Non-Perishable"
   ]
  },
  {
   "cell_type": "code",
   "execution_count": 62,
   "metadata": {},
   "outputs": [],
   "source": [
    "combined['price_per_unit']=combined.Item_MRP/combined.Item_Weight"
   ]
  },
  {
   "cell_type": "markdown",
   "metadata": {},
   "source": [
    "As seen in the Item_MRP vs Item_Outlet_Sales graph, we observed that Item_MRP was spread across in 4 chunks. \n",
    "\n",
    "So now we will assign a label to each of these chunks and use this label as a new variable."
   ]
  },
  {
   "cell_type": "code",
   "execution_count": 66,
   "metadata": {},
   "outputs": [],
   "source": [
    "def clusters(x):\n",
    "    if x<69:\n",
    "        return '1st'\n",
    "    elif x in range(69,136):\n",
    "        return '2nd'\n",
    "    elif x in range(136,203):\n",
    "        return '3rd'\n",
    "    else:\n",
    "        return '4th'\n",
    "combined['Item_MRP_Clusters'] = combined['Item_MRP'].astype('int').apply(clusters)"
   ]
  },
  {
   "cell_type": "code",
   "execution_count": 67,
   "metadata": {},
   "outputs": [
    {
     "data": {
      "text/html": [
       "<div>\n",
       "<style scoped>\n",
       "    .dataframe tbody tr th:only-of-type {\n",
       "        vertical-align: middle;\n",
       "    }\n",
       "\n",
       "    .dataframe tbody tr th {\n",
       "        vertical-align: top;\n",
       "    }\n",
       "\n",
       "    .dataframe thead th {\n",
       "        text-align: right;\n",
       "    }\n",
       "</style>\n",
       "<table border=\"1\" class=\"dataframe\">\n",
       "  <thead>\n",
       "    <tr style=\"text-align: right;\">\n",
       "      <th></th>\n",
       "      <th>Item_Identifier</th>\n",
       "      <th>Item_Weight</th>\n",
       "      <th>Item_Fat_Content</th>\n",
       "      <th>Item_Visibility</th>\n",
       "      <th>Item_Type</th>\n",
       "      <th>Item_MRP</th>\n",
       "      <th>Outlet_Identifier</th>\n",
       "      <th>Outlet_Establishment_Year</th>\n",
       "      <th>Outlet_Size</th>\n",
       "      <th>Outlet_Location_Type</th>\n",
       "      <th>Outlet_Type</th>\n",
       "      <th>Item_Outlet_Sales</th>\n",
       "      <th>Item_Type_new</th>\n",
       "      <th>Id_Category</th>\n",
       "      <th>price_per_unit</th>\n",
       "      <th>Item_MRP_Clusters</th>\n",
       "    </tr>\n",
       "  </thead>\n",
       "  <tbody>\n",
       "    <tr>\n",
       "      <td>0</td>\n",
       "      <td>FDA15</td>\n",
       "      <td>9.30</td>\n",
       "      <td>Low Fat</td>\n",
       "      <td>0.016047</td>\n",
       "      <td>Dairy</td>\n",
       "      <td>249.8092</td>\n",
       "      <td>OUT049</td>\n",
       "      <td>1999</td>\n",
       "      <td>Medium</td>\n",
       "      <td>Tier 1</td>\n",
       "      <td>Supermarket Type1</td>\n",
       "      <td>3735.1380</td>\n",
       "      <td>perishable</td>\n",
       "      <td>FD</td>\n",
       "      <td>26.861204</td>\n",
       "      <td>4th</td>\n",
       "    </tr>\n",
       "    <tr>\n",
       "      <td>1</td>\n",
       "      <td>DRC01</td>\n",
       "      <td>5.92</td>\n",
       "      <td>Regular</td>\n",
       "      <td>0.019278</td>\n",
       "      <td>Soft Drinks</td>\n",
       "      <td>48.2692</td>\n",
       "      <td>OUT018</td>\n",
       "      <td>2009</td>\n",
       "      <td>Medium</td>\n",
       "      <td>Tier 3</td>\n",
       "      <td>Supermarket Type2</td>\n",
       "      <td>443.4228</td>\n",
       "      <td>non_perishable</td>\n",
       "      <td>DR</td>\n",
       "      <td>8.153581</td>\n",
       "      <td>1st</td>\n",
       "    </tr>\n",
       "    <tr>\n",
       "      <td>2</td>\n",
       "      <td>FDN15</td>\n",
       "      <td>17.50</td>\n",
       "      <td>Low Fat</td>\n",
       "      <td>0.016760</td>\n",
       "      <td>Meat</td>\n",
       "      <td>141.6180</td>\n",
       "      <td>OUT049</td>\n",
       "      <td>1999</td>\n",
       "      <td>Medium</td>\n",
       "      <td>Tier 1</td>\n",
       "      <td>Supermarket Type1</td>\n",
       "      <td>2097.2700</td>\n",
       "      <td>perishable</td>\n",
       "      <td>FD</td>\n",
       "      <td>8.092457</td>\n",
       "      <td>3rd</td>\n",
       "    </tr>\n",
       "    <tr>\n",
       "      <td>3</td>\n",
       "      <td>FDX07</td>\n",
       "      <td>19.20</td>\n",
       "      <td>Regular</td>\n",
       "      <td>0.065953</td>\n",
       "      <td>Fruits and Vegetables</td>\n",
       "      <td>182.0950</td>\n",
       "      <td>OUT010</td>\n",
       "      <td>1998</td>\n",
       "      <td>Small</td>\n",
       "      <td>Tier 3</td>\n",
       "      <td>Grocery Store</td>\n",
       "      <td>732.3800</td>\n",
       "      <td>perishable</td>\n",
       "      <td>FD</td>\n",
       "      <td>9.484115</td>\n",
       "      <td>3rd</td>\n",
       "    </tr>\n",
       "    <tr>\n",
       "      <td>4</td>\n",
       "      <td>NCD19</td>\n",
       "      <td>8.93</td>\n",
       "      <td>Non Edible</td>\n",
       "      <td>0.065953</td>\n",
       "      <td>Household</td>\n",
       "      <td>53.8614</td>\n",
       "      <td>OUT013</td>\n",
       "      <td>1987</td>\n",
       "      <td>High</td>\n",
       "      <td>Tier 3</td>\n",
       "      <td>Supermarket Type1</td>\n",
       "      <td>994.7052</td>\n",
       "      <td>non_perishable</td>\n",
       "      <td>NC</td>\n",
       "      <td>6.031512</td>\n",
       "      <td>1st</td>\n",
       "    </tr>\n",
       "  </tbody>\n",
       "</table>\n",
       "</div>"
      ],
      "text/plain": [
       "  Item_Identifier  Item_Weight Item_Fat_Content  Item_Visibility  \\\n",
       "0           FDA15         9.30          Low Fat         0.016047   \n",
       "1           DRC01         5.92          Regular         0.019278   \n",
       "2           FDN15        17.50          Low Fat         0.016760   \n",
       "3           FDX07        19.20          Regular         0.065953   \n",
       "4           NCD19         8.93       Non Edible         0.065953   \n",
       "\n",
       "               Item_Type  Item_MRP Outlet_Identifier  \\\n",
       "0                  Dairy  249.8092            OUT049   \n",
       "1            Soft Drinks   48.2692            OUT018   \n",
       "2                   Meat  141.6180            OUT049   \n",
       "3  Fruits and Vegetables  182.0950            OUT010   \n",
       "4              Household   53.8614            OUT013   \n",
       "\n",
       "   Outlet_Establishment_Year Outlet_Size Outlet_Location_Type  \\\n",
       "0                       1999      Medium               Tier 1   \n",
       "1                       2009      Medium               Tier 3   \n",
       "2                       1999      Medium               Tier 1   \n",
       "3                       1998       Small               Tier 3   \n",
       "4                       1987        High               Tier 3   \n",
       "\n",
       "         Outlet_Type  Item_Outlet_Sales   Item_Type_new Id_Category  \\\n",
       "0  Supermarket Type1          3735.1380      perishable          FD   \n",
       "1  Supermarket Type2           443.4228  non_perishable          DR   \n",
       "2  Supermarket Type1          2097.2700      perishable          FD   \n",
       "3      Grocery Store           732.3800      perishable          FD   \n",
       "4  Supermarket Type1           994.7052  non_perishable          NC   \n",
       "\n",
       "   price_per_unit Item_MRP_Clusters  \n",
       "0       26.861204               4th  \n",
       "1        8.153581               1st  \n",
       "2        8.092457               3rd  \n",
       "3        9.484115               3rd  \n",
       "4        6.031512               1st  "
      ]
     },
     "execution_count": 67,
     "metadata": {},
     "output_type": "execute_result"
    }
   ],
   "source": [
    "combined.head()"
   ]
  },
  {
   "cell_type": "markdown",
   "metadata": {},
   "source": [
    "- We have created new features:\n",
    "\n",
    "    - In Item Weight: Differentiated items into Perishable,Non-Perishable and others.\n",
    "    \n",
    "    - In Item_Fat_Content: We already had Low Fat,Regular, created new feature as Non-Edible.\n",
    "        \n",
    "    - New Feature as Price_per_unit.\n",
    "    \n",
    "    - Item_MRP is divided into 4 chunks."
   ]
  },
  {
   "cell_type": "code",
   "execution_count": 68,
   "metadata": {},
   "outputs": [
    {
     "data": {
      "text/plain": [
       "Item_Weight                  1.740312\n",
       "Item_Visibility              1.320683\n",
       "Item_MRP                     0.130728\n",
       "Outlet_Establishment_Year   -0.396465\n",
       "Item_Outlet_Sales            1.177531\n",
       "price_per_unit               1.086188\n",
       "dtype: float64"
      ]
     },
     "execution_count": 68,
     "metadata": {},
     "output_type": "execute_result"
    }
   ],
   "source": [
    "combined.skew()"
   ]
  },
  {
   "cell_type": "markdown",
   "metadata": {},
   "source": [
    "As seen in the above cell we dont get skewness for categorical variable and we cannot delete these attributes because this will cause data loss,also it will be difficult for further predictions.Therefore we Encode the categorical variable. "
   ]
  },
  {
   "cell_type": "markdown",
   "metadata": {},
   "source": [
    "# Encoding Categorical Variables:\n",
    "\n",
    "Two techniques One Hot Encoding and Label Encoding will be used.\n",
    "\n",
    "1. Label Encoding:\n",
    "It means converting each category of a variable to a number. It is more suitable for ordinal variables — categorical variables with some order.\n",
    "\n",
    "2. One Hot Encoding:\n",
    "In this each category of a categorical variable is converted into a new binary column (1/0)."
   ]
  },
  {
   "cell_type": "code",
   "execution_count": 69,
   "metadata": {},
   "outputs": [],
   "source": [
    "#We will label encode Outlet_Size,Outlet_Location_Type,Item_Fat_Content and Item_MRP_Clusters as these are ordinal variables.\n",
    "\n",
    "from sklearn.preprocessing import LabelEncoder\n",
    "\n",
    "le=LabelEncoder()\n",
    "\n",
    "combined['Outlet_Size']= le.fit_transform(combined['Outlet_Size'])\n",
    "combined['Outlet_Location_Type'] = le.fit_transform(combined['Outlet_Location_Type'])\n",
    "combined['Item_Fat_Content'] = le.fit_transform(combined['Item_Fat_Content'])\n",
    "combined['Item_MRP_Clusters'] = le.fit_transform(combined['Item_MRP_Clusters'])"
   ]
  },
  {
   "cell_type": "code",
   "execution_count": null,
   "metadata": {},
   "outputs": [],
   "source": [
    "#One Hot Encoding on the remaining categorical variable."
   ]
  },
  {
   "cell_type": "code",
   "execution_count": 71,
   "metadata": {},
   "outputs": [
    {
     "data": {
      "text/plain": [
       "Index(['Item_Identifier', 'Item_Weight', 'Item_Fat_Content', 'Item_Visibility',\n",
       "       'Item_Type', 'Item_MRP', 'Outlet_Identifier',\n",
       "       'Outlet_Establishment_Year', 'Outlet_Size', 'Outlet_Location_Type',\n",
       "       'Outlet_Type', 'Item_Outlet_Sales', 'Item_Type_new', 'Id_Category',\n",
       "       'price_per_unit', 'Item_MRP_Clusters'],\n",
       "      dtype='object')"
      ]
     },
     "execution_count": 71,
     "metadata": {},
     "output_type": "execute_result"
    }
   ],
   "source": [
    "combined.columns"
   ]
  },
  {
   "cell_type": "code",
   "execution_count": 73,
   "metadata": {},
   "outputs": [],
   "source": [
    "a = pd.get_dummies(combined[['Item_Identifier','Item_Type','Outlet_Identifier','Outlet_Type','Item_Type_new','Id_Category']])\n",
    "combined = combined.drop(['Item_Identifier','Item_Type','Outlet_Identifier','Outlet_Type','Item_Type_new','Id_Category'],axis = 1 )\n",
    "combined = pd.concat([combined,a],axis = 1)"
   ]
  },
  {
   "cell_type": "code",
   "execution_count": 74,
   "metadata": {},
   "outputs": [
    {
     "name": "stdout",
     "output_type": "stream",
     "text": [
      "<class 'pandas.core.frame.DataFrame'>\n",
      "RangeIndex: 14204 entries, 0 to 14203\n",
      "Columns: 1605 entries, Item_Weight to Id_Category_NC\n",
      "dtypes: float64(5), int32(4), int64(1), uint8(1595)\n",
      "memory usage: 22.5 MB\n"
     ]
    }
   ],
   "source": [
    "combined.info()"
   ]
  },
  {
   "cell_type": "markdown",
   "metadata": {},
   "source": [
    "As seen,all the attributes are converted into numerical variable."
   ]
  },
  {
   "cell_type": "markdown",
   "metadata": {},
   "source": [
    "# Data Preprocessing:\n",
    "\n",
    "- Data Preprocessing steps involves data cleaning,data transformations and data scaling and other processes.\n",
    "\n",
    "- As skewness is present in the data we will transform the data."
   ]
  },
  {
   "cell_type": "code",
   "execution_count": 75,
   "metadata": {},
   "outputs": [
    {
     "data": {
      "text/plain": [
       "Item_Weight                  1.740312\n",
       "Item_Fat_Content             0.205470\n",
       "Item_Visibility              1.320683\n",
       "Item_MRP                     0.130728\n",
       "Outlet_Establishment_Year   -0.396465\n",
       "                               ...   \n",
       "Item_Type_new_others         4.787227\n",
       "Item_Type_new_perishable     0.761199\n",
       "Id_Category_DR               2.808733\n",
       "Id_Category_FD              -0.970026\n",
       "Id_Category_NC               1.588047\n",
       "Length: 1605, dtype: float64"
      ]
     },
     "execution_count": 75,
     "metadata": {},
     "output_type": "execute_result"
    }
   ],
   "source": [
    "combined.skew()"
   ]
  },
  {
   "cell_type": "markdown",
   "metadata": {},
   "source": [
    "- We need to skew the data for further predictive model and skewness process is used to bring the data closer to normal distribution.\n",
    "\n",
    "- For Data Transformation there are different techniques that can be used:\n",
    "\n",
    "    Log,Sqrt,exponential and many others.\n",
    "    \n",
    "We can also use boxcox method to transform the data.\n",
    "\n",
    "- A Box Cox transformation is a way to transform non-normal dependent variables into a normal shape. Normality is an important assumption for many statistical techniques; if our data isn’t normal, applying a Box-Cox means that we are able to run a broader number of tests."
   ]
  },
  {
   "cell_type": "code",
   "execution_count": 76,
   "metadata": {},
   "outputs": [
    {
     "data": {
      "text/plain": [
       "['Item_Weight',\n",
       " 'Item_Fat_Content',\n",
       " 'Item_Visibility',\n",
       " 'Outlet_Establishment_Year',\n",
       " 'Outlet_Size',\n",
       " 'Outlet_Location_Type',\n",
       " 'price_per_unit',\n",
       " 'Item_MRP_Clusters',\n",
       " 'Item_Identifier_DRA12',\n",
       " 'Item_Identifier_DRA24',\n",
       " 'Item_Identifier_DRA59',\n",
       " 'Item_Identifier_DRB01',\n",
       " 'Item_Identifier_DRB13',\n",
       " 'Item_Identifier_DRB24',\n",
       " 'Item_Identifier_DRB25',\n",
       " 'Item_Identifier_DRB48',\n",
       " 'Item_Identifier_DRC01',\n",
       " 'Item_Identifier_DRC12',\n",
       " 'Item_Identifier_DRC13',\n",
       " 'Item_Identifier_DRC24',\n",
       " 'Item_Identifier_DRC25',\n",
       " 'Item_Identifier_DRC27',\n",
       " 'Item_Identifier_DRC36',\n",
       " 'Item_Identifier_DRC49',\n",
       " 'Item_Identifier_DRD01',\n",
       " 'Item_Identifier_DRD12',\n",
       " 'Item_Identifier_DRD13',\n",
       " 'Item_Identifier_DRD15',\n",
       " 'Item_Identifier_DRD24',\n",
       " 'Item_Identifier_DRD25',\n",
       " 'Item_Identifier_DRD27',\n",
       " 'Item_Identifier_DRD37',\n",
       " 'Item_Identifier_DRD49',\n",
       " 'Item_Identifier_DRD60',\n",
       " 'Item_Identifier_DRE01',\n",
       " 'Item_Identifier_DRE03',\n",
       " 'Item_Identifier_DRE12',\n",
       " 'Item_Identifier_DRE13',\n",
       " 'Item_Identifier_DRE15',\n",
       " 'Item_Identifier_DRE25',\n",
       " 'Item_Identifier_DRE27',\n",
       " 'Item_Identifier_DRE37',\n",
       " 'Item_Identifier_DRE48',\n",
       " 'Item_Identifier_DRE49',\n",
       " 'Item_Identifier_DRE60',\n",
       " 'Item_Identifier_DRF01',\n",
       " 'Item_Identifier_DRF03',\n",
       " 'Item_Identifier_DRF13',\n",
       " 'Item_Identifier_DRF15',\n",
       " 'Item_Identifier_DRF23',\n",
       " 'Item_Identifier_DRF25',\n",
       " 'Item_Identifier_DRF27',\n",
       " 'Item_Identifier_DRF36',\n",
       " 'Item_Identifier_DRF37',\n",
       " 'Item_Identifier_DRF48',\n",
       " 'Item_Identifier_DRF49',\n",
       " 'Item_Identifier_DRF51',\n",
       " 'Item_Identifier_DRF60',\n",
       " 'Item_Identifier_DRG01',\n",
       " 'Item_Identifier_DRG03',\n",
       " 'Item_Identifier_DRG11',\n",
       " 'Item_Identifier_DRG13',\n",
       " 'Item_Identifier_DRG15',\n",
       " 'Item_Identifier_DRG23',\n",
       " 'Item_Identifier_DRG25',\n",
       " 'Item_Identifier_DRG27',\n",
       " 'Item_Identifier_DRG36',\n",
       " 'Item_Identifier_DRG37',\n",
       " 'Item_Identifier_DRG39',\n",
       " 'Item_Identifier_DRG48',\n",
       " 'Item_Identifier_DRG49',\n",
       " 'Item_Identifier_DRG51',\n",
       " 'Item_Identifier_DRH01',\n",
       " 'Item_Identifier_DRH03',\n",
       " 'Item_Identifier_DRH11',\n",
       " 'Item_Identifier_DRH13',\n",
       " 'Item_Identifier_DRH15',\n",
       " 'Item_Identifier_DRH23',\n",
       " 'Item_Identifier_DRH25',\n",
       " 'Item_Identifier_DRH36',\n",
       " 'Item_Identifier_DRH37',\n",
       " 'Item_Identifier_DRH39',\n",
       " 'Item_Identifier_DRH49',\n",
       " 'Item_Identifier_DRH51',\n",
       " 'Item_Identifier_DRH59',\n",
       " 'Item_Identifier_DRI01',\n",
       " 'Item_Identifier_DRI03',\n",
       " 'Item_Identifier_DRI11',\n",
       " 'Item_Identifier_DRI13',\n",
       " 'Item_Identifier_DRI23',\n",
       " 'Item_Identifier_DRI25',\n",
       " 'Item_Identifier_DRI37',\n",
       " 'Item_Identifier_DRI39',\n",
       " 'Item_Identifier_DRI47',\n",
       " 'Item_Identifier_DRI49',\n",
       " 'Item_Identifier_DRI51',\n",
       " 'Item_Identifier_DRI59',\n",
       " 'Item_Identifier_DRJ01',\n",
       " 'Item_Identifier_DRJ11',\n",
       " 'Item_Identifier_DRJ13',\n",
       " 'Item_Identifier_DRJ23',\n",
       " 'Item_Identifier_DRJ24',\n",
       " 'Item_Identifier_DRJ25',\n",
       " 'Item_Identifier_DRJ35',\n",
       " 'Item_Identifier_DRJ37',\n",
       " 'Item_Identifier_DRJ39',\n",
       " 'Item_Identifier_DRJ47',\n",
       " 'Item_Identifier_DRJ49',\n",
       " 'Item_Identifier_DRJ51',\n",
       " 'Item_Identifier_DRJ59',\n",
       " 'Item_Identifier_DRK01',\n",
       " 'Item_Identifier_DRK11',\n",
       " 'Item_Identifier_DRK12',\n",
       " 'Item_Identifier_DRK13',\n",
       " 'Item_Identifier_DRK23',\n",
       " 'Item_Identifier_DRK35',\n",
       " 'Item_Identifier_DRK37',\n",
       " 'Item_Identifier_DRK39',\n",
       " 'Item_Identifier_DRK47',\n",
       " 'Item_Identifier_DRK49',\n",
       " 'Item_Identifier_DRK59',\n",
       " 'Item_Identifier_DRL01',\n",
       " 'Item_Identifier_DRL11',\n",
       " 'Item_Identifier_DRL23',\n",
       " 'Item_Identifier_DRL35',\n",
       " 'Item_Identifier_DRL37',\n",
       " 'Item_Identifier_DRL47',\n",
       " 'Item_Identifier_DRL49',\n",
       " 'Item_Identifier_DRL59',\n",
       " 'Item_Identifier_DRL60',\n",
       " 'Item_Identifier_DRM11',\n",
       " 'Item_Identifier_DRM23',\n",
       " 'Item_Identifier_DRM35',\n",
       " 'Item_Identifier_DRM37',\n",
       " 'Item_Identifier_DRM47',\n",
       " 'Item_Identifier_DRM48',\n",
       " 'Item_Identifier_DRM49',\n",
       " 'Item_Identifier_DRM59',\n",
       " 'Item_Identifier_DRN11',\n",
       " 'Item_Identifier_DRN35',\n",
       " 'Item_Identifier_DRN36',\n",
       " 'Item_Identifier_DRN37',\n",
       " 'Item_Identifier_DRN47',\n",
       " 'Item_Identifier_DRN59',\n",
       " 'Item_Identifier_DRO35',\n",
       " 'Item_Identifier_DRO47',\n",
       " 'Item_Identifier_DRO59',\n",
       " 'Item_Identifier_DRP35',\n",
       " 'Item_Identifier_DRP47',\n",
       " 'Item_Identifier_DRQ35',\n",
       " 'Item_Identifier_DRY23',\n",
       " 'Item_Identifier_DRZ11',\n",
       " 'Item_Identifier_DRZ24',\n",
       " 'Item_Identifier_FDA01',\n",
       " 'Item_Identifier_FDA02',\n",
       " 'Item_Identifier_FDA03',\n",
       " 'Item_Identifier_FDA04',\n",
       " 'Item_Identifier_FDA07',\n",
       " 'Item_Identifier_FDA08',\n",
       " 'Item_Identifier_FDA09',\n",
       " 'Item_Identifier_FDA10',\n",
       " 'Item_Identifier_FDA11',\n",
       " 'Item_Identifier_FDA13',\n",
       " 'Item_Identifier_FDA14',\n",
       " 'Item_Identifier_FDA15',\n",
       " 'Item_Identifier_FDA16',\n",
       " 'Item_Identifier_FDA19',\n",
       " 'Item_Identifier_FDA20',\n",
       " 'Item_Identifier_FDA21',\n",
       " 'Item_Identifier_FDA22',\n",
       " 'Item_Identifier_FDA23',\n",
       " 'Item_Identifier_FDA25',\n",
       " 'Item_Identifier_FDA26',\n",
       " 'Item_Identifier_FDA27',\n",
       " 'Item_Identifier_FDA28',\n",
       " 'Item_Identifier_FDA31',\n",
       " 'Item_Identifier_FDA32',\n",
       " 'Item_Identifier_FDA33',\n",
       " 'Item_Identifier_FDA34',\n",
       " 'Item_Identifier_FDA35',\n",
       " 'Item_Identifier_FDA36',\n",
       " 'Item_Identifier_FDA37',\n",
       " 'Item_Identifier_FDA38',\n",
       " 'Item_Identifier_FDA39',\n",
       " 'Item_Identifier_FDA40',\n",
       " 'Item_Identifier_FDA43',\n",
       " 'Item_Identifier_FDA44',\n",
       " 'Item_Identifier_FDA45',\n",
       " 'Item_Identifier_FDA46',\n",
       " 'Item_Identifier_FDA47',\n",
       " 'Item_Identifier_FDA48',\n",
       " 'Item_Identifier_FDA49',\n",
       " 'Item_Identifier_FDA50',\n",
       " 'Item_Identifier_FDA51',\n",
       " 'Item_Identifier_FDA52',\n",
       " 'Item_Identifier_FDA55',\n",
       " 'Item_Identifier_FDA56',\n",
       " 'Item_Identifier_FDA57',\n",
       " 'Item_Identifier_FDA58',\n",
       " 'Item_Identifier_FDB02',\n",
       " 'Item_Identifier_FDB03',\n",
       " 'Item_Identifier_FDB04',\n",
       " 'Item_Identifier_FDB05',\n",
       " 'Item_Identifier_FDB08',\n",
       " 'Item_Identifier_FDB09',\n",
       " 'Item_Identifier_FDB10',\n",
       " 'Item_Identifier_FDB11',\n",
       " 'Item_Identifier_FDB12',\n",
       " 'Item_Identifier_FDB14',\n",
       " 'Item_Identifier_FDB15',\n",
       " 'Item_Identifier_FDB16',\n",
       " 'Item_Identifier_FDB17',\n",
       " 'Item_Identifier_FDB20',\n",
       " 'Item_Identifier_FDB21',\n",
       " 'Item_Identifier_FDB22',\n",
       " 'Item_Identifier_FDB23',\n",
       " 'Item_Identifier_FDB26',\n",
       " 'Item_Identifier_FDB27',\n",
       " 'Item_Identifier_FDB28',\n",
       " 'Item_Identifier_FDB29',\n",
       " 'Item_Identifier_FDB32',\n",
       " 'Item_Identifier_FDB33',\n",
       " 'Item_Identifier_FDB34',\n",
       " 'Item_Identifier_FDB35',\n",
       " 'Item_Identifier_FDB36',\n",
       " 'Item_Identifier_FDB37',\n",
       " 'Item_Identifier_FDB38',\n",
       " 'Item_Identifier_FDB39',\n",
       " 'Item_Identifier_FDB40',\n",
       " 'Item_Identifier_FDB41',\n",
       " 'Item_Identifier_FDB44',\n",
       " 'Item_Identifier_FDB45',\n",
       " 'Item_Identifier_FDB46',\n",
       " 'Item_Identifier_FDB47',\n",
       " 'Item_Identifier_FDB49',\n",
       " 'Item_Identifier_FDB50',\n",
       " 'Item_Identifier_FDB51',\n",
       " 'Item_Identifier_FDB52',\n",
       " 'Item_Identifier_FDB53',\n",
       " 'Item_Identifier_FDB56',\n",
       " 'Item_Identifier_FDB57',\n",
       " 'Item_Identifier_FDB58',\n",
       " 'Item_Identifier_FDB59',\n",
       " 'Item_Identifier_FDB60',\n",
       " 'Item_Identifier_FDC02',\n",
       " 'Item_Identifier_FDC03',\n",
       " 'Item_Identifier_FDC04',\n",
       " 'Item_Identifier_FDC05',\n",
       " 'Item_Identifier_FDC08',\n",
       " 'Item_Identifier_FDC09',\n",
       " 'Item_Identifier_FDC10',\n",
       " 'Item_Identifier_FDC11',\n",
       " 'Item_Identifier_FDC14',\n",
       " 'Item_Identifier_FDC15',\n",
       " 'Item_Identifier_FDC16',\n",
       " 'Item_Identifier_FDC17',\n",
       " 'Item_Identifier_FDC20',\n",
       " 'Item_Identifier_FDC21',\n",
       " 'Item_Identifier_FDC22',\n",
       " 'Item_Identifier_FDC23',\n",
       " 'Item_Identifier_FDC26',\n",
       " 'Item_Identifier_FDC28',\n",
       " 'Item_Identifier_FDC29',\n",
       " 'Item_Identifier_FDC32',\n",
       " 'Item_Identifier_FDC33',\n",
       " 'Item_Identifier_FDC34',\n",
       " 'Item_Identifier_FDC35',\n",
       " 'Item_Identifier_FDC37',\n",
       " 'Item_Identifier_FDC38',\n",
       " 'Item_Identifier_FDC39',\n",
       " 'Item_Identifier_FDC40',\n",
       " 'Item_Identifier_FDC41',\n",
       " 'Item_Identifier_FDC44',\n",
       " 'Item_Identifier_FDC45',\n",
       " 'Item_Identifier_FDC46',\n",
       " 'Item_Identifier_FDC47',\n",
       " 'Item_Identifier_FDC48',\n",
       " 'Item_Identifier_FDC50',\n",
       " 'Item_Identifier_FDC51',\n",
       " 'Item_Identifier_FDC52',\n",
       " 'Item_Identifier_FDC53',\n",
       " 'Item_Identifier_FDC56',\n",
       " 'Item_Identifier_FDC57',\n",
       " 'Item_Identifier_FDC58',\n",
       " 'Item_Identifier_FDC59',\n",
       " 'Item_Identifier_FDC60',\n",
       " 'Item_Identifier_FDD02',\n",
       " 'Item_Identifier_FDD03',\n",
       " 'Item_Identifier_FDD04',\n",
       " 'Item_Identifier_FDD05',\n",
       " 'Item_Identifier_FDD08',\n",
       " 'Item_Identifier_FDD09',\n",
       " 'Item_Identifier_FDD10',\n",
       " 'Item_Identifier_FDD11',\n",
       " 'Item_Identifier_FDD14',\n",
       " 'Item_Identifier_FDD16',\n",
       " 'Item_Identifier_FDD17',\n",
       " 'Item_Identifier_FDD20',\n",
       " 'Item_Identifier_FDD21',\n",
       " 'Item_Identifier_FDD22',\n",
       " 'Item_Identifier_FDD23',\n",
       " 'Item_Identifier_FDD26',\n",
       " 'Item_Identifier_FDD28',\n",
       " 'Item_Identifier_FDD29',\n",
       " 'Item_Identifier_FDD32',\n",
       " 'Item_Identifier_FDD33',\n",
       " 'Item_Identifier_FDD34',\n",
       " 'Item_Identifier_FDD35',\n",
       " 'Item_Identifier_FDD36',\n",
       " 'Item_Identifier_FDD38',\n",
       " 'Item_Identifier_FDD39',\n",
       " 'Item_Identifier_FDD40',\n",
       " 'Item_Identifier_FDD41',\n",
       " 'Item_Identifier_FDD44',\n",
       " 'Item_Identifier_FDD45',\n",
       " 'Item_Identifier_FDD46',\n",
       " 'Item_Identifier_FDD47',\n",
       " 'Item_Identifier_FDD48',\n",
       " 'Item_Identifier_FDD50',\n",
       " 'Item_Identifier_FDD51',\n",
       " 'Item_Identifier_FDD52',\n",
       " 'Item_Identifier_FDD53',\n",
       " 'Item_Identifier_FDD56',\n",
       " 'Item_Identifier_FDD57',\n",
       " 'Item_Identifier_FDD58',\n",
       " 'Item_Identifier_FDD59',\n",
       " 'Item_Identifier_FDE02',\n",
       " 'Item_Identifier_FDE04',\n",
       " 'Item_Identifier_FDE05',\n",
       " 'Item_Identifier_FDE08',\n",
       " 'Item_Identifier_FDE09',\n",
       " 'Item_Identifier_FDE10',\n",
       " 'Item_Identifier_FDE11',\n",
       " 'Item_Identifier_FDE14',\n",
       " 'Item_Identifier_FDE16',\n",
       " 'Item_Identifier_FDE17',\n",
       " 'Item_Identifier_FDE20',\n",
       " 'Item_Identifier_FDE21',\n",
       " 'Item_Identifier_FDE22',\n",
       " 'Item_Identifier_FDE23',\n",
       " 'Item_Identifier_FDE24',\n",
       " 'Item_Identifier_FDE26',\n",
       " 'Item_Identifier_FDE28',\n",
       " 'Item_Identifier_FDE29',\n",
       " 'Item_Identifier_FDE32',\n",
       " 'Item_Identifier_FDE33',\n",
       " 'Item_Identifier_FDE34',\n",
       " 'Item_Identifier_FDE35',\n",
       " 'Item_Identifier_FDE36',\n",
       " 'Item_Identifier_FDE38',\n",
       " 'Item_Identifier_FDE39',\n",
       " 'Item_Identifier_FDE40',\n",
       " 'Item_Identifier_FDE41',\n",
       " 'Item_Identifier_FDE44',\n",
       " 'Item_Identifier_FDE45',\n",
       " 'Item_Identifier_FDE46',\n",
       " 'Item_Identifier_FDE47',\n",
       " 'Item_Identifier_FDE50',\n",
       " 'Item_Identifier_FDE51',\n",
       " 'Item_Identifier_FDE52',\n",
       " 'Item_Identifier_FDE53',\n",
       " 'Item_Identifier_FDE56',\n",
       " 'Item_Identifier_FDE57',\n",
       " 'Item_Identifier_FDE58',\n",
       " 'Item_Identifier_FDE59',\n",
       " 'Item_Identifier_FDF02',\n",
       " 'Item_Identifier_FDF04',\n",
       " 'Item_Identifier_FDF05',\n",
       " 'Item_Identifier_FDF08',\n",
       " 'Item_Identifier_FDF09',\n",
       " 'Item_Identifier_FDF10',\n",
       " 'Item_Identifier_FDF11',\n",
       " 'Item_Identifier_FDF12',\n",
       " 'Item_Identifier_FDF14',\n",
       " 'Item_Identifier_FDF16',\n",
       " 'Item_Identifier_FDF17',\n",
       " 'Item_Identifier_FDF20',\n",
       " 'Item_Identifier_FDF21',\n",
       " 'Item_Identifier_FDF22',\n",
       " 'Item_Identifier_FDF24',\n",
       " 'Item_Identifier_FDF26',\n",
       " 'Item_Identifier_FDF28',\n",
       " 'Item_Identifier_FDF29',\n",
       " 'Item_Identifier_FDF32',\n",
       " 'Item_Identifier_FDF33',\n",
       " 'Item_Identifier_FDF34',\n",
       " 'Item_Identifier_FDF35',\n",
       " 'Item_Identifier_FDF38',\n",
       " 'Item_Identifier_FDF39',\n",
       " 'Item_Identifier_FDF40',\n",
       " 'Item_Identifier_FDF41',\n",
       " 'Item_Identifier_FDF44',\n",
       " 'Item_Identifier_FDF45',\n",
       " 'Item_Identifier_FDF46',\n",
       " 'Item_Identifier_FDF47',\n",
       " 'Item_Identifier_FDF50',\n",
       " 'Item_Identifier_FDF52',\n",
       " 'Item_Identifier_FDF53',\n",
       " 'Item_Identifier_FDF56',\n",
       " 'Item_Identifier_FDF57',\n",
       " 'Item_Identifier_FDF58',\n",
       " 'Item_Identifier_FDF59',\n",
       " 'Item_Identifier_FDG02',\n",
       " 'Item_Identifier_FDG04',\n",
       " 'Item_Identifier_FDG05',\n",
       " 'Item_Identifier_FDG08',\n",
       " 'Item_Identifier_FDG09',\n",
       " 'Item_Identifier_FDG10',\n",
       " 'Item_Identifier_FDG12',\n",
       " 'Item_Identifier_FDG14',\n",
       " 'Item_Identifier_FDG16',\n",
       " 'Item_Identifier_FDG17',\n",
       " 'Item_Identifier_FDG20',\n",
       " 'Item_Identifier_FDG21',\n",
       " 'Item_Identifier_FDG22',\n",
       " 'Item_Identifier_FDG24',\n",
       " 'Item_Identifier_FDG26',\n",
       " 'Item_Identifier_FDG28',\n",
       " 'Item_Identifier_FDG29',\n",
       " 'Item_Identifier_FDG31',\n",
       " 'Item_Identifier_FDG32',\n",
       " 'Item_Identifier_FDG33',\n",
       " 'Item_Identifier_FDG34',\n",
       " 'Item_Identifier_FDG35',\n",
       " 'Item_Identifier_FDG38',\n",
       " 'Item_Identifier_FDG40',\n",
       " 'Item_Identifier_FDG41',\n",
       " 'Item_Identifier_FDG44',\n",
       " 'Item_Identifier_FDG45',\n",
       " 'Item_Identifier_FDG46',\n",
       " 'Item_Identifier_FDG47',\n",
       " 'Item_Identifier_FDG50',\n",
       " 'Item_Identifier_FDG52',\n",
       " 'Item_Identifier_FDG53',\n",
       " 'Item_Identifier_FDG56',\n",
       " 'Item_Identifier_FDG57',\n",
       " 'Item_Identifier_FDG58',\n",
       " 'Item_Identifier_FDG59',\n",
       " 'Item_Identifier_FDG60',\n",
       " 'Item_Identifier_FDH02',\n",
       " 'Item_Identifier_FDH04',\n",
       " 'Item_Identifier_FDH05',\n",
       " 'Item_Identifier_FDH08',\n",
       " 'Item_Identifier_FDH09',\n",
       " 'Item_Identifier_FDH10',\n",
       " 'Item_Identifier_FDH12',\n",
       " 'Item_Identifier_FDH14',\n",
       " 'Item_Identifier_FDH16',\n",
       " 'Item_Identifier_FDH17',\n",
       " 'Item_Identifier_FDH19',\n",
       " 'Item_Identifier_FDH20',\n",
       " 'Item_Identifier_FDH21',\n",
       " 'Item_Identifier_FDH22',\n",
       " 'Item_Identifier_FDH24',\n",
       " 'Item_Identifier_FDH26',\n",
       " 'Item_Identifier_FDH27',\n",
       " 'Item_Identifier_FDH28',\n",
       " 'Item_Identifier_FDH31',\n",
       " 'Item_Identifier_FDH32',\n",
       " 'Item_Identifier_FDH33',\n",
       " 'Item_Identifier_FDH34',\n",
       " 'Item_Identifier_FDH35',\n",
       " 'Item_Identifier_FDH38',\n",
       " 'Item_Identifier_FDH40',\n",
       " 'Item_Identifier_FDH41',\n",
       " 'Item_Identifier_FDH44',\n",
       " 'Item_Identifier_FDH45',\n",
       " 'Item_Identifier_FDH46',\n",
       " 'Item_Identifier_FDH47',\n",
       " 'Item_Identifier_FDH48',\n",
       " 'Item_Identifier_FDH50',\n",
       " 'Item_Identifier_FDH52',\n",
       " 'Item_Identifier_FDH53',\n",
       " 'Item_Identifier_FDH56',\n",
       " 'Item_Identifier_FDH57',\n",
       " 'Item_Identifier_FDH58',\n",
       " 'Item_Identifier_FDH60',\n",
       " 'Item_Identifier_FDI02',\n",
       " 'Item_Identifier_FDI04',\n",
       " 'Item_Identifier_FDI05',\n",
       " 'Item_Identifier_FDI07',\n",
       " 'Item_Identifier_FDI08',\n",
       " 'Item_Identifier_FDI09',\n",
       " 'Item_Identifier_FDI10',\n",
       " 'Item_Identifier_FDI12',\n",
       " 'Item_Identifier_FDI14',\n",
       " 'Item_Identifier_FDI15',\n",
       " 'Item_Identifier_FDI16',\n",
       " 'Item_Identifier_FDI19',\n",
       " 'Item_Identifier_FDI20',\n",
       " 'Item_Identifier_FDI21',\n",
       " 'Item_Identifier_FDI22',\n",
       " 'Item_Identifier_FDI24',\n",
       " 'Item_Identifier_FDI26',\n",
       " 'Item_Identifier_FDI27',\n",
       " 'Item_Identifier_FDI28',\n",
       " 'Item_Identifier_FDI32',\n",
       " 'Item_Identifier_FDI33',\n",
       " 'Item_Identifier_FDI34',\n",
       " 'Item_Identifier_FDI35',\n",
       " 'Item_Identifier_FDI36',\n",
       " 'Item_Identifier_FDI38',\n",
       " 'Item_Identifier_FDI40',\n",
       " 'Item_Identifier_FDI41',\n",
       " 'Item_Identifier_FDI44',\n",
       " 'Item_Identifier_FDI45',\n",
       " 'Item_Identifier_FDI46',\n",
       " 'Item_Identifier_FDI48',\n",
       " 'Item_Identifier_FDI50',\n",
       " 'Item_Identifier_FDI52',\n",
       " 'Item_Identifier_FDI53',\n",
       " 'Item_Identifier_FDI56',\n",
       " 'Item_Identifier_FDI57',\n",
       " 'Item_Identifier_FDI58',\n",
       " 'Item_Identifier_FDI60',\n",
       " 'Item_Identifier_FDJ02',\n",
       " 'Item_Identifier_FDJ03',\n",
       " 'Item_Identifier_FDJ04',\n",
       " 'Item_Identifier_FDJ07',\n",
       " 'Item_Identifier_FDJ08',\n",
       " 'Item_Identifier_FDJ09',\n",
       " 'Item_Identifier_FDJ10',\n",
       " 'Item_Identifier_FDJ12',\n",
       " 'Item_Identifier_FDJ14',\n",
       " 'Item_Identifier_FDJ15',\n",
       " 'Item_Identifier_FDJ16',\n",
       " 'Item_Identifier_FDJ20',\n",
       " 'Item_Identifier_FDJ21',\n",
       " 'Item_Identifier_FDJ22',\n",
       " 'Item_Identifier_FDJ26',\n",
       " 'Item_Identifier_FDJ27',\n",
       " 'Item_Identifier_FDJ28',\n",
       " 'Item_Identifier_FDJ32',\n",
       " 'Item_Identifier_FDJ33',\n",
       " 'Item_Identifier_FDJ34',\n",
       " 'Item_Identifier_FDJ36',\n",
       " 'Item_Identifier_FDJ38',\n",
       " 'Item_Identifier_FDJ40',\n",
       " 'Item_Identifier_FDJ41',\n",
       " 'Item_Identifier_FDJ44',\n",
       " 'Item_Identifier_FDJ45',\n",
       " 'Item_Identifier_FDJ46',\n",
       " 'Item_Identifier_FDJ48',\n",
       " 'Item_Identifier_FDJ50',\n",
       " 'Item_Identifier_FDJ52',\n",
       " 'Item_Identifier_FDJ53',\n",
       " 'Item_Identifier_FDJ55',\n",
       " 'Item_Identifier_FDJ56',\n",
       " 'Item_Identifier_FDJ57',\n",
       " 'Item_Identifier_FDJ58',\n",
       " 'Item_Identifier_FDJ60',\n",
       " 'Item_Identifier_FDK02',\n",
       " 'Item_Identifier_FDK03',\n",
       " 'Item_Identifier_FDK04',\n",
       " 'Item_Identifier_FDK08',\n",
       " 'Item_Identifier_FDK09',\n",
       " 'Item_Identifier_FDK10',\n",
       " 'Item_Identifier_FDK14',\n",
       " 'Item_Identifier_FDK15',\n",
       " 'Item_Identifier_FDK16',\n",
       " 'Item_Identifier_FDK20',\n",
       " 'Item_Identifier_FDK21',\n",
       " 'Item_Identifier_FDK22',\n",
       " 'Item_Identifier_FDK24',\n",
       " 'Item_Identifier_FDK25',\n",
       " 'Item_Identifier_FDK26',\n",
       " 'Item_Identifier_FDK27',\n",
       " 'Item_Identifier_FDK28',\n",
       " 'Item_Identifier_FDK32',\n",
       " 'Item_Identifier_FDK33',\n",
       " 'Item_Identifier_FDK34',\n",
       " 'Item_Identifier_FDK36',\n",
       " 'Item_Identifier_FDK38',\n",
       " 'Item_Identifier_FDK40',\n",
       " 'Item_Identifier_FDK41',\n",
       " 'Item_Identifier_FDK43',\n",
       " 'Item_Identifier_FDK44',\n",
       " 'Item_Identifier_FDK45',\n",
       " 'Item_Identifier_FDK46',\n",
       " 'Item_Identifier_FDK48',\n",
       " 'Item_Identifier_FDK50',\n",
       " 'Item_Identifier_FDK51',\n",
       " 'Item_Identifier_FDK52',\n",
       " 'Item_Identifier_FDK55',\n",
       " 'Item_Identifier_FDK56',\n",
       " 'Item_Identifier_FDK57',\n",
       " 'Item_Identifier_FDK58',\n",
       " 'Item_Identifier_FDK60',\n",
       " 'Item_Identifier_FDL02',\n",
       " 'Item_Identifier_FDL03',\n",
       " 'Item_Identifier_FDL04',\n",
       " 'Item_Identifier_FDL08',\n",
       " 'Item_Identifier_FDL09',\n",
       " 'Item_Identifier_FDL10',\n",
       " 'Item_Identifier_FDL12',\n",
       " 'Item_Identifier_FDL13',\n",
       " 'Item_Identifier_FDL14',\n",
       " 'Item_Identifier_FDL15',\n",
       " 'Item_Identifier_FDL16',\n",
       " 'Item_Identifier_FDL20',\n",
       " 'Item_Identifier_FDL21',\n",
       " 'Item_Identifier_FDL22',\n",
       " 'Item_Identifier_FDL24',\n",
       " 'Item_Identifier_FDL25',\n",
       " 'Item_Identifier_FDL26',\n",
       " 'Item_Identifier_FDL27',\n",
       " 'Item_Identifier_FDL28',\n",
       " 'Item_Identifier_FDL32',\n",
       " 'Item_Identifier_FDL33',\n",
       " 'Item_Identifier_FDL34',\n",
       " 'Item_Identifier_FDL36',\n",
       " 'Item_Identifier_FDL38',\n",
       " 'Item_Identifier_FDL39',\n",
       " 'Item_Identifier_FDL40',\n",
       " 'Item_Identifier_FDL43',\n",
       " 'Item_Identifier_FDL44',\n",
       " 'Item_Identifier_FDL45',\n",
       " 'Item_Identifier_FDL46',\n",
       " 'Item_Identifier_FDL48',\n",
       " 'Item_Identifier_FDL50',\n",
       " 'Item_Identifier_FDL51',\n",
       " 'Item_Identifier_FDL52',\n",
       " 'Item_Identifier_FDL56',\n",
       " 'Item_Identifier_FDL57',\n",
       " 'Item_Identifier_FDL58',\n",
       " 'Item_Identifier_FDM01',\n",
       " 'Item_Identifier_FDM02',\n",
       " 'Item_Identifier_FDM03',\n",
       " 'Item_Identifier_FDM04',\n",
       " 'Item_Identifier_FDM08',\n",
       " 'Item_Identifier_FDM09',\n",
       " 'Item_Identifier_FDM10',\n",
       " 'Item_Identifier_FDM12',\n",
       " 'Item_Identifier_FDM13',\n",
       " 'Item_Identifier_FDM14',\n",
       " 'Item_Identifier_FDM15',\n",
       " 'Item_Identifier_FDM16',\n",
       " 'Item_Identifier_FDM20',\n",
       " 'Item_Identifier_FDM21',\n",
       " 'Item_Identifier_FDM22',\n",
       " 'Item_Identifier_FDM24',\n",
       " 'Item_Identifier_FDM25',\n",
       " 'Item_Identifier_FDM27',\n",
       " 'Item_Identifier_FDM28',\n",
       " 'Item_Identifier_FDM32',\n",
       " 'Item_Identifier_FDM33',\n",
       " 'Item_Identifier_FDM34',\n",
       " 'Item_Identifier_FDM36',\n",
       " 'Item_Identifier_FDM38',\n",
       " 'Item_Identifier_FDM39',\n",
       " 'Item_Identifier_FDM40',\n",
       " 'Item_Identifier_FDM44',\n",
       " 'Item_Identifier_FDM45',\n",
       " 'Item_Identifier_FDM46',\n",
       " 'Item_Identifier_FDM50',\n",
       " 'Item_Identifier_FDM51',\n",
       " 'Item_Identifier_FDM52',\n",
       " 'Item_Identifier_FDM56',\n",
       " 'Item_Identifier_FDM57',\n",
       " 'Item_Identifier_FDM58',\n",
       " 'Item_Identifier_FDM60',\n",
       " 'Item_Identifier_FDN01',\n",
       " 'Item_Identifier_FDN02',\n",
       " 'Item_Identifier_FDN03',\n",
       " 'Item_Identifier_FDN04',\n",
       " 'Item_Identifier_FDN08',\n",
       " 'Item_Identifier_FDN09',\n",
       " 'Item_Identifier_FDN10',\n",
       " 'Item_Identifier_FDN12',\n",
       " 'Item_Identifier_FDN13',\n",
       " 'Item_Identifier_FDN15',\n",
       " 'Item_Identifier_FDN16',\n",
       " 'Item_Identifier_FDN20',\n",
       " 'Item_Identifier_FDN21',\n",
       " 'Item_Identifier_FDN22',\n",
       " 'Item_Identifier_FDN23',\n",
       " 'Item_Identifier_FDN24',\n",
       " 'Item_Identifier_FDN25',\n",
       " 'Item_Identifier_FDN27',\n",
       " 'Item_Identifier_FDN28',\n",
       " 'Item_Identifier_FDN31',\n",
       " 'Item_Identifier_FDN32',\n",
       " 'Item_Identifier_FDN33',\n",
       " 'Item_Identifier_FDN34',\n",
       " 'Item_Identifier_FDN38',\n",
       " 'Item_Identifier_FDN39',\n",
       " 'Item_Identifier_FDN40',\n",
       " 'Item_Identifier_FDN44',\n",
       " 'Item_Identifier_FDN45',\n",
       " 'Item_Identifier_FDN46',\n",
       " 'Item_Identifier_FDN48',\n",
       " 'Item_Identifier_FDN49',\n",
       " 'Item_Identifier_FDN50',\n",
       " 'Item_Identifier_FDN51',\n",
       " 'Item_Identifier_FDN52',\n",
       " 'Item_Identifier_FDN56',\n",
       " 'Item_Identifier_FDN57',\n",
       " 'Item_Identifier_FDN58',\n",
       " 'Item_Identifier_FDN60',\n",
       " 'Item_Identifier_FDO01',\n",
       " 'Item_Identifier_FDO03',\n",
       " 'Item_Identifier_FDO04',\n",
       " 'Item_Identifier_FDO08',\n",
       " 'Item_Identifier_FDO09',\n",
       " 'Item_Identifier_FDO10',\n",
       " 'Item_Identifier_FDO11',\n",
       " 'Item_Identifier_FDO12',\n",
       " 'Item_Identifier_FDO13',\n",
       " 'Item_Identifier_FDO15',\n",
       " 'Item_Identifier_FDO16',\n",
       " 'Item_Identifier_FDO19',\n",
       " 'Item_Identifier_FDO20',\n",
       " 'Item_Identifier_FDO21',\n",
       " 'Item_Identifier_FDO22',\n",
       " 'Item_Identifier_FDO23',\n",
       " 'Item_Identifier_FDO24',\n",
       " 'Item_Identifier_FDO25',\n",
       " 'Item_Identifier_FDO27',\n",
       " 'Item_Identifier_FDO28',\n",
       " 'Item_Identifier_FDO31',\n",
       " 'Item_Identifier_FDO32',\n",
       " 'Item_Identifier_FDO33',\n",
       " 'Item_Identifier_FDO34',\n",
       " 'Item_Identifier_FDO36',\n",
       " 'Item_Identifier_FDO37',\n",
       " 'Item_Identifier_FDO38',\n",
       " 'Item_Identifier_FDO39',\n",
       " 'Item_Identifier_FDO40',\n",
       " 'Item_Identifier_FDO44',\n",
       " 'Item_Identifier_FDO45',\n",
       " 'Item_Identifier_FDO46',\n",
       " 'Item_Identifier_FDO48',\n",
       " 'Item_Identifier_FDO49',\n",
       " 'Item_Identifier_FDO50',\n",
       " 'Item_Identifier_FDO51',\n",
       " 'Item_Identifier_FDO52',\n",
       " 'Item_Identifier_FDO56',\n",
       " 'Item_Identifier_FDO57',\n",
       " 'Item_Identifier_FDO58',\n",
       " 'Item_Identifier_FDO60',\n",
       " 'Item_Identifier_FDP01',\n",
       " 'Item_Identifier_FDP03',\n",
       " 'Item_Identifier_FDP04',\n",
       " 'Item_Identifier_FDP07',\n",
       " 'Item_Identifier_FDP08',\n",
       " 'Item_Identifier_FDP09',\n",
       " 'Item_Identifier_FDP10',\n",
       " 'Item_Identifier_FDP11',\n",
       " 'Item_Identifier_FDP12',\n",
       " 'Item_Identifier_FDP13',\n",
       " 'Item_Identifier_FDP15',\n",
       " 'Item_Identifier_FDP16',\n",
       " 'Item_Identifier_FDP19',\n",
       " 'Item_Identifier_FDP20',\n",
       " 'Item_Identifier_FDP21',\n",
       " 'Item_Identifier_FDP22',\n",
       " 'Item_Identifier_FDP23',\n",
       " 'Item_Identifier_FDP24',\n",
       " 'Item_Identifier_FDP25',\n",
       " 'Item_Identifier_FDP26',\n",
       " 'Item_Identifier_FDP27',\n",
       " 'Item_Identifier_FDP28',\n",
       " 'Item_Identifier_FDP31',\n",
       " 'Item_Identifier_FDP32',\n",
       " 'Item_Identifier_FDP33',\n",
       " 'Item_Identifier_FDP34',\n",
       " 'Item_Identifier_FDP36',\n",
       " 'Item_Identifier_FDP37',\n",
       " 'Item_Identifier_FDP38',\n",
       " 'Item_Identifier_FDP39',\n",
       " 'Item_Identifier_FDP40',\n",
       " 'Item_Identifier_FDP44',\n",
       " 'Item_Identifier_FDP45',\n",
       " 'Item_Identifier_FDP46',\n",
       " 'Item_Identifier_FDP48',\n",
       " 'Item_Identifier_FDP49',\n",
       " 'Item_Identifier_FDP51',\n",
       " 'Item_Identifier_FDP52',\n",
       " 'Item_Identifier_FDP56',\n",
       " 'Item_Identifier_FDP57',\n",
       " 'Item_Identifier_FDP58',\n",
       " 'Item_Identifier_FDP59',\n",
       " 'Item_Identifier_FDP60',\n",
       " 'Item_Identifier_FDQ01',\n",
       " 'Item_Identifier_FDQ03',\n",
       " 'Item_Identifier_FDQ04',\n",
       " 'Item_Identifier_FDQ07',\n",
       " 'Item_Identifier_FDQ08',\n",
       " 'Item_Identifier_FDQ09',\n",
       " 'Item_Identifier_FDQ10',\n",
       " 'Item_Identifier_FDQ11',\n",
       " 'Item_Identifier_FDQ12',\n",
       " 'Item_Identifier_FDQ13',\n",
       " 'Item_Identifier_FDQ14',\n",
       " 'Item_Identifier_FDQ15',\n",
       " 'Item_Identifier_FDQ16',\n",
       " 'Item_Identifier_FDQ19',\n",
       " 'Item_Identifier_FDQ20',\n",
       " 'Item_Identifier_FDQ21',\n",
       " 'Item_Identifier_FDQ22',\n",
       " 'Item_Identifier_FDQ23',\n",
       " 'Item_Identifier_FDQ24',\n",
       " 'Item_Identifier_FDQ25',\n",
       " 'Item_Identifier_FDQ26',\n",
       " 'Item_Identifier_FDQ27',\n",
       " 'Item_Identifier_FDQ28',\n",
       " 'Item_Identifier_FDQ31',\n",
       " 'Item_Identifier_FDQ32',\n",
       " 'Item_Identifier_FDQ33',\n",
       " 'Item_Identifier_FDQ34',\n",
       " 'Item_Identifier_FDQ36',\n",
       " 'Item_Identifier_FDQ37',\n",
       " 'Item_Identifier_FDQ39',\n",
       " 'Item_Identifier_FDQ40',\n",
       " 'Item_Identifier_FDQ44',\n",
       " 'Item_Identifier_FDQ45',\n",
       " 'Item_Identifier_FDQ46',\n",
       " 'Item_Identifier_FDQ47',\n",
       " 'Item_Identifier_FDQ48',\n",
       " 'Item_Identifier_FDQ49',\n",
       " 'Item_Identifier_FDQ51',\n",
       " 'Item_Identifier_FDQ52',\n",
       " 'Item_Identifier_FDQ55',\n",
       " 'Item_Identifier_FDQ56',\n",
       " 'Item_Identifier_FDQ57',\n",
       " 'Item_Identifier_FDQ58',\n",
       " 'Item_Identifier_FDQ59',\n",
       " 'Item_Identifier_FDQ60',\n",
       " 'Item_Identifier_FDR01',\n",
       " 'Item_Identifier_FDR02',\n",
       " 'Item_Identifier_FDR03',\n",
       " 'Item_Identifier_FDR04',\n",
       " 'Item_Identifier_FDR07',\n",
       " 'Item_Identifier_FDR08',\n",
       " 'Item_Identifier_FDR09',\n",
       " 'Item_Identifier_FDR10',\n",
       " 'Item_Identifier_FDR11',\n",
       " 'Item_Identifier_FDR12',\n",
       " 'Item_Identifier_FDR13',\n",
       " 'Item_Identifier_FDR14',\n",
       " 'Item_Identifier_FDR15',\n",
       " 'Item_Identifier_FDR16',\n",
       " 'Item_Identifier_FDR19',\n",
       " 'Item_Identifier_FDR20',\n",
       " 'Item_Identifier_FDR21',\n",
       " 'Item_Identifier_FDR22',\n",
       " 'Item_Identifier_FDR23',\n",
       " 'Item_Identifier_FDR24',\n",
       " 'Item_Identifier_FDR25',\n",
       " 'Item_Identifier_FDR26',\n",
       " 'Item_Identifier_FDR27',\n",
       " 'Item_Identifier_FDR28',\n",
       " 'Item_Identifier_FDR31',\n",
       " 'Item_Identifier_FDR32',\n",
       " 'Item_Identifier_FDR33',\n",
       " 'Item_Identifier_FDR34',\n",
       " 'Item_Identifier_FDR35',\n",
       " 'Item_Identifier_FDR36',\n",
       " 'Item_Identifier_FDR37',\n",
       " 'Item_Identifier_FDR39',\n",
       " 'Item_Identifier_FDR40',\n",
       " 'Item_Identifier_FDR43',\n",
       " 'Item_Identifier_FDR44',\n",
       " 'Item_Identifier_FDR45',\n",
       " 'Item_Identifier_FDR46',\n",
       " 'Item_Identifier_FDR47',\n",
       " 'Item_Identifier_FDR48',\n",
       " 'Item_Identifier_FDR49',\n",
       " 'Item_Identifier_FDR51',\n",
       " 'Item_Identifier_FDR52',\n",
       " 'Item_Identifier_FDR55',\n",
       " 'Item_Identifier_FDR56',\n",
       " 'Item_Identifier_FDR57',\n",
       " 'Item_Identifier_FDR58',\n",
       " 'Item_Identifier_FDR59',\n",
       " 'Item_Identifier_FDR60',\n",
       " 'Item_Identifier_FDS01',\n",
       " 'Item_Identifier_FDS02',\n",
       " 'Item_Identifier_FDS03',\n",
       " 'Item_Identifier_FDS04',\n",
       " 'Item_Identifier_FDS07',\n",
       " 'Item_Identifier_FDS08',\n",
       " 'Item_Identifier_FDS09',\n",
       " 'Item_Identifier_FDS10',\n",
       " 'Item_Identifier_FDS11',\n",
       " 'Item_Identifier_FDS12',\n",
       " 'Item_Identifier_FDS13',\n",
       " 'Item_Identifier_FDS14',\n",
       " 'Item_Identifier_FDS15',\n",
       " 'Item_Identifier_FDS16',\n",
       " 'Item_Identifier_FDS19',\n",
       " 'Item_Identifier_FDS20',\n",
       " 'Item_Identifier_FDS21',\n",
       " 'Item_Identifier_FDS22',\n",
       " 'Item_Identifier_FDS23',\n",
       " 'Item_Identifier_FDS24',\n",
       " 'Item_Identifier_FDS25',\n",
       " 'Item_Identifier_FDS26',\n",
       " 'Item_Identifier_FDS27',\n",
       " 'Item_Identifier_FDS28',\n",
       " 'Item_Identifier_FDS31',\n",
       " 'Item_Identifier_FDS32',\n",
       " 'Item_Identifier_FDS33',\n",
       " 'Item_Identifier_FDS34',\n",
       " 'Item_Identifier_FDS35',\n",
       " 'Item_Identifier_FDS36',\n",
       " 'Item_Identifier_FDS37',\n",
       " 'Item_Identifier_FDS39',\n",
       " 'Item_Identifier_FDS40',\n",
       " 'Item_Identifier_FDS43',\n",
       " 'Item_Identifier_FDS44',\n",
       " 'Item_Identifier_FDS45',\n",
       " 'Item_Identifier_FDS46',\n",
       " 'Item_Identifier_FDS47',\n",
       " 'Item_Identifier_FDS48',\n",
       " 'Item_Identifier_FDS49',\n",
       " 'Item_Identifier_FDS50',\n",
       " 'Item_Identifier_FDS51',\n",
       " 'Item_Identifier_FDS52',\n",
       " 'Item_Identifier_FDS55',\n",
       " 'Item_Identifier_FDS56',\n",
       " 'Item_Identifier_FDS57',\n",
       " 'Item_Identifier_FDS58',\n",
       " 'Item_Identifier_FDS59',\n",
       " 'Item_Identifier_FDS60',\n",
       " 'Item_Identifier_FDT01',\n",
       " 'Item_Identifier_FDT02',\n",
       " 'Item_Identifier_FDT03',\n",
       " 'Item_Identifier_FDT04',\n",
       " 'Item_Identifier_FDT07',\n",
       " 'Item_Identifier_FDT08',\n",
       " 'Item_Identifier_FDT09',\n",
       " 'Item_Identifier_FDT10',\n",
       " 'Item_Identifier_FDT11',\n",
       " 'Item_Identifier_FDT12',\n",
       " 'Item_Identifier_FDT13',\n",
       " 'Item_Identifier_FDT14',\n",
       " 'Item_Identifier_FDT15',\n",
       " 'Item_Identifier_FDT16',\n",
       " 'Item_Identifier_FDT19',\n",
       " 'Item_Identifier_FDT20',\n",
       " 'Item_Identifier_FDT21',\n",
       " 'Item_Identifier_FDT22',\n",
       " 'Item_Identifier_FDT23',\n",
       " 'Item_Identifier_FDT24',\n",
       " 'Item_Identifier_FDT25',\n",
       " 'Item_Identifier_FDT26',\n",
       " 'Item_Identifier_FDT27',\n",
       " 'Item_Identifier_FDT28',\n",
       " 'Item_Identifier_FDT31',\n",
       " 'Item_Identifier_FDT32',\n",
       " 'Item_Identifier_FDT33',\n",
       " 'Item_Identifier_FDT34',\n",
       " 'Item_Identifier_FDT35',\n",
       " 'Item_Identifier_FDT36',\n",
       " 'Item_Identifier_FDT37',\n",
       " 'Item_Identifier_FDT38',\n",
       " 'Item_Identifier_FDT39',\n",
       " 'Item_Identifier_FDT40',\n",
       " 'Item_Identifier_FDT43',\n",
       " 'Item_Identifier_FDT44',\n",
       " 'Item_Identifier_FDT45',\n",
       " 'Item_Identifier_FDT46',\n",
       " 'Item_Identifier_FDT47',\n",
       " 'Item_Identifier_FDT48',\n",
       " 'Item_Identifier_FDT49',\n",
       " 'Item_Identifier_FDT50',\n",
       " 'Item_Identifier_FDT51',\n",
       " 'Item_Identifier_FDT52',\n",
       " 'Item_Identifier_FDT55',\n",
       " 'Item_Identifier_FDT56',\n",
       " 'Item_Identifier_FDT57',\n",
       " 'Item_Identifier_FDT58',\n",
       " 'Item_Identifier_FDT59',\n",
       " 'Item_Identifier_FDT60',\n",
       " 'Item_Identifier_FDU01',\n",
       " 'Item_Identifier_FDU02',\n",
       " 'Item_Identifier_FDU03',\n",
       " 'Item_Identifier_FDU04',\n",
       " 'Item_Identifier_FDU07',\n",
       " 'Item_Identifier_FDU08',\n",
       " 'Item_Identifier_FDU09',\n",
       " 'Item_Identifier_FDU10',\n",
       " 'Item_Identifier_FDU11',\n",
       " 'Item_Identifier_FDU12',\n",
       " 'Item_Identifier_FDU13',\n",
       " 'Item_Identifier_FDU14',\n",
       " 'Item_Identifier_FDU15',\n",
       " 'Item_Identifier_FDU16',\n",
       " 'Item_Identifier_FDU19',\n",
       " 'Item_Identifier_FDU20',\n",
       " 'Item_Identifier_FDU21',\n",
       " 'Item_Identifier_FDU22',\n",
       " 'Item_Identifier_FDU23',\n",
       " 'Item_Identifier_FDU24',\n",
       " 'Item_Identifier_FDU25',\n",
       " 'Item_Identifier_FDU26',\n",
       " 'Item_Identifier_FDU27',\n",
       " 'Item_Identifier_FDU28',\n",
       " 'Item_Identifier_FDU31',\n",
       " ...]"
      ]
     },
     "execution_count": 76,
     "metadata": {},
     "output_type": "execute_result"
    }
   ],
   "source": [
    "l=[]\n",
    "for i in combined.columns:\n",
    "    if((combined[i].skew()<0.1) or (combined[i].skew()>0.2) and (i!='Item_Outlet_Sales')):\n",
    "        l.append(i)\n",
    "l"
   ]
  },
  {
   "cell_type": "code",
   "execution_count": 80,
   "metadata": {},
   "outputs": [
    {
     "name": "stderr",
     "output_type": "stream",
     "text": [
      "C:\\Users\\Kajal Chopda\\AppData\\Local\\Continuum\\anaconda3\\lib\\site-packages\\scipy\\stats\\morestats.py:910: RuntimeWarning: divide by zero encountered in log\n",
      "  return (lmb - 1) * np.sum(logdata, axis=0) - N/2 * np.log(variance)\n",
      "C:\\Users\\Kajal Chopda\\AppData\\Local\\Continuum\\anaconda3\\lib\\site-packages\\numpy\\core\\_methods.py:107: RuntimeWarning: overflow encountered in reduce\n",
      "  arrmean = umr_sum(arr, axis, dtype, keepdims=True)\n",
      "C:\\Users\\Kajal Chopda\\AppData\\Local\\Continuum\\anaconda3\\lib\\site-packages\\scipy\\optimize\\optimize.py:1984: RuntimeWarning: invalid value encountered in double_scalars\n",
      "  tmp1 = (x - w) * (fx - fv)\n",
      "C:\\Users\\Kajal Chopda\\AppData\\Local\\Continuum\\anaconda3\\lib\\site-packages\\scipy\\optimize\\optimize.py:1985: RuntimeWarning: invalid value encountered in double_scalars\n",
      "  tmp2 = (x - v) * (fx - fw)\n"
     ]
    },
    {
     "data": {
      "text/plain": [
       "Item_Weight                  0.024036\n",
       "Item_Fat_Content            -0.032999\n",
       "Item_Visibility              0.013764\n",
       "Item_MRP                     0.130728\n",
       "Outlet_Establishment_Year    0.000000\n",
       "                               ...   \n",
       "Item_Type_new_others         4.787227\n",
       "Item_Type_new_perishable     0.761199\n",
       "Id_Category_DR               2.808733\n",
       "Id_Category_FD              -0.970026\n",
       "Id_Category_NC               1.588047\n",
       "Length: 1605, dtype: float64"
      ]
     },
     "execution_count": 80,
     "metadata": {},
     "output_type": "execute_result"
    }
   ],
   "source": [
    "import scipy.stats as st\n",
    "\n",
    "for i in combined.columns:\n",
    "    if i in l:\n",
    "        combined[i]=list(st.boxcox(combined[i]+1)[0])\n",
    "combined.skew()"
   ]
  }
 ],
 "metadata": {
  "kernelspec": {
   "display_name": "Python 3",
   "language": "python",
   "name": "python3"
  },
  "language_info": {
   "codemirror_mode": {
    "name": "ipython",
    "version": 3
   },
   "file_extension": ".py",
   "mimetype": "text/x-python",
   "name": "python",
   "nbconvert_exporter": "python",
   "pygments_lexer": "ipython3",
   "version": "3.7.4"
  }
 },
 "nbformat": 4,
 "nbformat_minor": 2
}
